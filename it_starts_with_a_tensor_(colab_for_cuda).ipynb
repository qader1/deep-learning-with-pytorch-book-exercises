{
  "nbformat": 4,
  "nbformat_minor": 0,
  "metadata": {
    "accelerator": "GPU",
    "colab": {
      "name": "it starts with a tensor (colab for cuda).ipynb",
      "provenance": []
    },
    "kernelspec": {
      "display_name": "Python 3",
      "name": "python3"
    },
    "language_info": {
      "name": "python"
    }
  },
  "cells": [
    {
      "cell_type": "code",
      "metadata": {
        "id": "Z-VRB9WBBny0"
      },
      "source": [
        "import torch"
      ],
      "execution_count": 10,
      "outputs": []
    },
    {
      "cell_type": "code",
      "metadata": {
        "colab": {
          "base_uri": "https://localhost:8080/"
        },
        "id": "m30-qIC5BpZ0",
        "outputId": "7a82a556-101a-45bc-c0b7-6c3309bf8732"
      },
      "source": [
        "torch.cuda.is_available()"
      ],
      "execution_count": 11,
      "outputs": [
        {
          "output_type": "execute_result",
          "data": {
            "text/plain": [
              "True"
            ]
          },
          "metadata": {},
          "execution_count": 11
        }
      ]
    },
    {
      "cell_type": "code",
      "metadata": {
        "id": "1Gc4Bt3TCruz"
      },
      "source": [
        "t = torch.tensor([1, 2, 3, 4, 5])"
      ],
      "execution_count": 12,
      "outputs": []
    },
    {
      "cell_type": "code",
      "metadata": {
        "id": "Ii59O2uzX20p"
      },
      "source": [
        "gpu_t = t.to(dtype=torch.float, device='cuda')"
      ],
      "execution_count": 13,
      "outputs": []
    },
    {
      "cell_type": "code",
      "metadata": {
        "id": "NcWhoPyiXtBq"
      },
      "source": [
        "import numpy as np\n",
        "\n",
        "points = torch.ones(3, 4)\n",
        "points_np = points.numpy()"
      ],
      "execution_count": 14,
      "outputs": []
    },
    {
      "cell_type": "code",
      "metadata": {
        "id": "5E2SqV9dYXOn"
      },
      "source": [
        "points_np"
      ],
      "execution_count": null,
      "outputs": []
    },
    {
      "cell_type": "code",
      "metadata": {
        "colab": {
          "base_uri": "https://localhost:8080/"
        },
        "id": "2QnFh2k1YZvG",
        "outputId": "4ff64d99-e0f9-429d-ad4d-86dc82b6e658"
      },
      "source": [
        "points.get_device(), gpu_t.get_device()"
      ],
      "execution_count": 17,
      "outputs": [
        {
          "output_type": "execute_result",
          "data": {
            "text/plain": [
              "(-1, 0)"
            ]
          },
          "metadata": {},
          "execution_count": 17
        }
      ]
    },
    {
      "cell_type": "code",
      "metadata": {
        "colab": {
          "base_uri": "https://localhost:8080/"
        },
        "id": "AB6Q8lbQYvn3",
        "outputId": "0de0ef2f-1113-4418-bf91-b54aa3abe87f"
      },
      "source": [
        "arr = np.random.randint(-100, high=100,size=(3, 2))\n",
        "arr"
      ],
      "execution_count": 18,
      "outputs": [
        {
          "output_type": "execute_result",
          "data": {
            "text/plain": [
              "array([[ -9,  77],\n",
              "       [-99, -57],\n",
              "       [ 39,  52]])"
            ]
          },
          "metadata": {},
          "execution_count": 18
        }
      ]
    },
    {
      "cell_type": "code",
      "metadata": {
        "colab": {
          "base_uri": "https://localhost:8080/"
        },
        "id": "YNxYwV_mZU9G",
        "outputId": "ca1dcd64-97fe-47c3-b2ec-c25baf8a68b8"
      },
      "source": [
        "ten_from_arr = torch.from_numpy(arr)\n",
        "ten_from_arr"
      ],
      "execution_count": 19,
      "outputs": [
        {
          "output_type": "execute_result",
          "data": {
            "text/plain": [
              "tensor([[ -9,  77],\n",
              "        [-99, -57],\n",
              "        [ 39,  52]])"
            ]
          },
          "metadata": {},
          "execution_count": 19
        }
      ]
    },
    {
      "cell_type": "code",
      "metadata": {
        "id": "z8FdUhPk0B7_"
      },
      "source": [
        "import h5py"
      ],
      "execution_count": 23,
      "outputs": []
    },
    {
      "cell_type": "code",
      "metadata": {
        "id": "3KEw-Ml55qIy"
      },
      "source": [
        ""
      ],
      "execution_count": null,
      "outputs": []
    }
  ]
}
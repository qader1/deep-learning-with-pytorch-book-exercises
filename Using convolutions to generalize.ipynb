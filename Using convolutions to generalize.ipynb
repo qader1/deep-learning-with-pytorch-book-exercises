{
 "cells": [
  {
   "cell_type": "code",
   "execution_count": 1,
   "id": "9945ed1f",
   "metadata": {},
   "outputs": [],
   "source": [
    "import torch.nn as nn\n",
    "import torch\n",
    "from matplotlib import pyplot as plt"
   ]
  },
  {
   "cell_type": "code",
   "execution_count": 2,
   "id": "45b2ac64",
   "metadata": {},
   "outputs": [
    {
     "data": {
      "text/plain": [
       "Parameter containing:\n",
       "tensor([[[[ 3.5374e-02,  5.9375e-02,  6.0887e-02],\n",
       "          [ 1.5026e-01, -1.1879e-03, -1.6733e-01],\n",
       "          [ 1.2786e-01,  1.8433e-01,  1.0344e-01]],\n",
       "\n",
       "         [[-7.8645e-02, -1.0889e-02, -9.4702e-02],\n",
       "          [-9.7470e-02, -1.5169e-01, -1.0744e-01],\n",
       "          [-9.0812e-02,  1.8191e-01, -1.2307e-01]],\n",
       "\n",
       "         [[-2.8259e-02, -1.2554e-01, -2.1267e-02],\n",
       "          [ 1.7875e-01,  1.2079e-01, -2.9207e-02],\n",
       "          [-5.4534e-02, -1.0627e-01, -1.9231e-01]]],\n",
       "\n",
       "\n",
       "        [[[-1.3006e-01, -1.3281e-01,  2.8999e-02],\n",
       "          [-6.3162e-02, -6.3665e-02,  6.7626e-02],\n",
       "          [-3.5242e-02,  8.0862e-02,  1.7400e-01]],\n",
       "\n",
       "         [[ 1.2224e-01, -1.0068e-02,  4.0157e-02],\n",
       "          [-1.0844e-01,  6.2242e-02,  1.7310e-01],\n",
       "          [ 1.9158e-01, -3.4626e-02, -1.2412e-01]],\n",
       "\n",
       "         [[-7.1113e-02,  1.6694e-01, -1.8574e-01],\n",
       "          [ 8.4075e-02, -1.8468e-01, -1.5869e-01],\n",
       "          [ 7.1601e-02,  8.2199e-02, -3.3749e-02]]],\n",
       "\n",
       "\n",
       "        [[[-3.7377e-02,  7.8474e-02,  9.5200e-02],\n",
       "          [ 1.5993e-01,  4.6135e-02,  1.6708e-01],\n",
       "          [-6.1944e-05, -1.4276e-01, -4.6663e-02]],\n",
       "\n",
       "         [[ 5.1599e-02,  4.2316e-02, -7.4164e-02],\n",
       "          [-1.0894e-01,  5.6238e-02, -1.2481e-01],\n",
       "          [-1.7869e-02,  3.6155e-02, -1.0240e-01]],\n",
       "\n",
       "         [[ 1.4075e-01, -1.6760e-01, -1.2456e-01],\n",
       "          [ 1.0979e-01,  4.7967e-02, -1.0383e-01],\n",
       "          [ 2.5230e-02,  7.6612e-02,  4.1810e-03]]],\n",
       "\n",
       "\n",
       "        [[[ 1.5596e-01,  4.6754e-02,  1.4702e-02],\n",
       "          [-1.3273e-01, -6.0625e-02, -8.2298e-02],\n",
       "          [ 1.0915e-01, -1.7149e-02, -8.0017e-02]],\n",
       "\n",
       "         [[ 8.3610e-02, -1.0956e-01, -9.0953e-02],\n",
       "          [-8.8191e-04, -4.4547e-02,  7.3324e-02],\n",
       "          [ 2.1079e-02, -1.3474e-01,  2.9872e-02]],\n",
       "\n",
       "         [[-1.1961e-01, -1.1144e-01, -1.8809e-01],\n",
       "          [-5.7082e-02,  6.0669e-02,  1.7235e-01],\n",
       "          [ 1.3395e-01,  1.1775e-01, -1.8319e-01]]],\n",
       "\n",
       "\n",
       "        [[[-6.0067e-02, -1.1812e-01,  1.1431e-01],\n",
       "          [-8.6080e-02,  1.9116e-01, -1.5086e-01],\n",
       "          [ 3.9965e-05,  1.6896e-01,  1.0668e-01]],\n",
       "\n",
       "         [[ 7.0312e-02, -2.2578e-02,  7.7785e-02],\n",
       "          [-1.4295e-01, -4.4823e-02,  3.4936e-02],\n",
       "          [-1.7450e-01,  9.0044e-02,  1.7559e-01]],\n",
       "\n",
       "         [[-1.4459e-01, -3.9093e-02, -1.2251e-01],\n",
       "          [ 9.4125e-02,  1.4265e-01,  9.1913e-02],\n",
       "          [ 1.3470e-01,  4.8231e-02,  1.1337e-01]]],\n",
       "\n",
       "\n",
       "        [[[ 3.8494e-03,  5.8748e-02,  2.0903e-02],\n",
       "          [-8.8752e-02,  1.8438e-01, -1.9092e-01],\n",
       "          [ 1.8615e-01,  1.0075e-01, -1.5159e-01]],\n",
       "\n",
       "         [[ 9.8822e-02,  1.4449e-01,  1.7084e-01],\n",
       "          [ 1.1849e-01,  1.6508e-01, -2.1892e-02],\n",
       "          [ 2.9320e-02,  7.9912e-02,  2.6998e-02]],\n",
       "\n",
       "         [[ 1.1170e-01, -5.9451e-02,  1.2463e-01],\n",
       "          [ 9.0965e-02,  3.7665e-02, -2.6935e-02],\n",
       "          [ 1.7112e-01,  1.2724e-01,  1.1455e-01]]],\n",
       "\n",
       "\n",
       "        [[[ 1.1826e-01, -1.1456e-01,  6.2022e-02],\n",
       "          [-1.5071e-01,  1.5077e-01,  1.4320e-01],\n",
       "          [ 1.8676e-01, -1.0295e-01,  1.8923e-01]],\n",
       "\n",
       "         [[-2.7630e-02, -1.6438e-01, -1.4940e-01],\n",
       "          [ 1.3748e-02,  1.1390e-01, -5.1044e-02],\n",
       "          [-9.9049e-02, -9.6882e-02,  4.4637e-02]],\n",
       "\n",
       "         [[ 1.6363e-01,  1.1853e-02, -1.2308e-01],\n",
       "          [-1.7155e-01, -4.2686e-02,  1.3258e-01],\n",
       "          [-1.0084e-01,  1.1410e-01,  7.8482e-02]]],\n",
       "\n",
       "\n",
       "        [[[ 1.5965e-01, -1.4401e-01,  1.8202e-01],\n",
       "          [-1.1622e-02, -3.5424e-02, -1.0556e-01],\n",
       "          [ 1.4846e-02,  1.4096e-01, -5.7710e-02]],\n",
       "\n",
       "         [[-1.2610e-01,  1.3253e-02,  6.0599e-02],\n",
       "          [-1.4136e-01, -1.8709e-01, -8.7967e-02],\n",
       "          [-2.5367e-02, -1.6917e-01, -1.1802e-01]],\n",
       "\n",
       "         [[-7.4431e-02,  6.2801e-02,  6.8986e-02],\n",
       "          [-1.6856e-02, -5.4067e-03,  1.7346e-01],\n",
       "          [ 1.1695e-01, -1.1169e-01,  1.1851e-01]]],\n",
       "\n",
       "\n",
       "        [[[-1.5684e-01, -1.3565e-01, -1.4237e-01],\n",
       "          [-8.1979e-02,  1.0044e-01,  7.2070e-02],\n",
       "          [ 1.4660e-01, -1.8190e-01, -1.7660e-01]],\n",
       "\n",
       "         [[-4.9581e-02,  1.7242e-02,  7.9188e-02],\n",
       "          [ 7.7563e-02,  4.1639e-02, -5.4306e-02],\n",
       "          [-1.6644e-01, -1.7052e-01,  1.2996e-01]],\n",
       "\n",
       "         [[-8.2520e-02, -1.8279e-01, -9.4066e-02],\n",
       "          [-1.7097e-01, -6.3024e-02, -1.2237e-01],\n",
       "          [-4.1117e-02,  2.8740e-03,  5.2417e-02]]],\n",
       "\n",
       "\n",
       "        [[[-1.8958e-01, -1.4778e-01,  1.8281e-01],\n",
       "          [ 9.6780e-02,  1.7137e-01, -1.6279e-01],\n",
       "          [-9.6702e-02, -1.6265e-01,  9.0181e-02]],\n",
       "\n",
       "         [[-1.2978e-01,  1.3960e-01,  4.9943e-02],\n",
       "          [-9.1209e-02,  1.7647e-01,  8.9535e-02],\n",
       "          [-1.4809e-01,  6.9314e-02,  1.4315e-01]],\n",
       "\n",
       "         [[-2.1500e-02, -1.5192e-01,  1.6605e-01],\n",
       "          [ 4.0471e-02, -1.7718e-01, -5.4810e-02],\n",
       "          [ 9.6111e-02, -7.3469e-02,  1.6609e-01]]],\n",
       "\n",
       "\n",
       "        [[[ 2.7895e-03, -1.9984e-02, -2.9325e-02],\n",
       "          [ 1.7720e-01,  1.6412e-01, -1.8912e-02],\n",
       "          [ 4.4191e-02,  1.6171e-01, -1.9077e-01]],\n",
       "\n",
       "         [[-1.0485e-01, -8.8300e-02, -1.7190e-01],\n",
       "          [ 1.3519e-01, -1.3589e-01, -5.0984e-02],\n",
       "          [ 1.4156e-01, -1.8412e-01, -1.0767e-01]],\n",
       "\n",
       "         [[ 1.1123e-01, -1.0681e-01, -6.5651e-02],\n",
       "          [ 4.6278e-02, -8.5884e-02,  1.8797e-01],\n",
       "          [ 1.0482e-01, -6.0124e-02, -1.9520e-02]]],\n",
       "\n",
       "\n",
       "        [[[-1.1051e-01,  7.8638e-02,  1.2084e-01],\n",
       "          [-4.9018e-02, -2.8414e-03, -1.5061e-02],\n",
       "          [-1.7368e-01,  1.8115e-01, -1.4874e-01]],\n",
       "\n",
       "         [[ 6.2671e-02,  1.4460e-01, -6.1190e-02],\n",
       "          [-2.7782e-02,  1.1020e-01,  1.0958e-02],\n",
       "          [ 1.1385e-01, -1.1053e-02,  1.7619e-01]],\n",
       "\n",
       "         [[ 4.9635e-02,  4.1880e-02, -5.1438e-02],\n",
       "          [ 1.7028e-01,  1.8115e-01,  5.9752e-02],\n",
       "          [-1.7724e-02, -1.7876e-01, -1.6149e-02]]],\n",
       "\n",
       "\n",
       "        [[[-8.2202e-02, -1.5109e-01, -1.0453e-01],\n",
       "          [-1.2494e-01, -1.8856e-01,  9.4025e-03],\n",
       "          [ 1.8194e-01,  1.6822e-01, -1.7065e-02]],\n",
       "\n",
       "         [[ 1.0461e-01, -1.8621e-02,  3.1575e-02],\n",
       "          [ 4.8276e-03,  1.5053e-01,  1.5432e-02],\n",
       "          [ 1.0989e-01, -1.6218e-01,  5.2986e-02]],\n",
       "\n",
       "         [[-2.9754e-03, -7.5893e-03,  2.0278e-02],\n",
       "          [-2.1734e-02,  3.8009e-02, -1.9063e-01],\n",
       "          [-2.4157e-02,  1.5835e-01, -1.3359e-01]]],\n",
       "\n",
       "\n",
       "        [[[-1.2157e-01,  3.7845e-02,  1.8137e-02],\n",
       "          [-1.3558e-01,  5.0027e-02, -1.0962e-01],\n",
       "          [-2.2774e-03, -4.2424e-03, -2.7212e-02]],\n",
       "\n",
       "         [[ 7.7405e-02, -3.4989e-02,  9.0119e-02],\n",
       "          [ 1.2302e-01, -5.1221e-02,  1.0092e-01],\n",
       "          [-4.8799e-02, -1.5707e-01, -6.0111e-02]],\n",
       "\n",
       "         [[-3.0892e-02,  8.8285e-02,  4.0349e-02],\n",
       "          [ 1.0485e-02,  1.6879e-01, -1.4856e-01],\n",
       "          [ 1.4391e-02,  1.0935e-01,  2.9541e-02]]],\n",
       "\n",
       "\n",
       "        [[[ 1.6053e-01,  6.9040e-02, -7.8256e-02],\n",
       "          [ 8.9514e-03, -1.4962e-01, -1.7850e-01],\n",
       "          [ 1.4771e-01, -1.6445e-01, -3.4650e-03]],\n",
       "\n",
       "         [[-3.8309e-02,  8.0904e-02,  8.7286e-02],\n",
       "          [ 6.7643e-02,  1.6996e-01, -8.7328e-02],\n",
       "          [-1.3975e-01,  1.7122e-03,  1.3517e-01]],\n",
       "\n",
       "         [[-7.9928e-02,  1.1773e-01,  1.5987e-01],\n",
       "          [-1.2294e-01, -7.9150e-02, -1.2001e-01],\n",
       "          [ 1.7884e-01, -8.3066e-02, -8.5664e-02]]],\n",
       "\n",
       "\n",
       "        [[[-4.6297e-02,  5.6359e-02, -7.0494e-03],\n",
       "          [ 3.3011e-02, -1.2636e-01, -8.0474e-02],\n",
       "          [ 3.4595e-02, -6.0202e-02,  1.0629e-01]],\n",
       "\n",
       "         [[-3.6693e-02,  1.3237e-01, -1.6246e-01],\n",
       "          [ 3.4286e-02, -6.4595e-02,  1.1620e-01],\n",
       "          [-6.4395e-02, -1.5350e-01, -1.0171e-01]],\n",
       "\n",
       "         [[-9.8456e-02, -1.8548e-01, -2.3862e-02],\n",
       "          [-3.8277e-02,  4.2445e-02,  1.3467e-01],\n",
       "          [-4.2354e-02,  7.3805e-02,  9.5880e-03]]]], requires_grad=True)"
      ]
     },
     "execution_count": 2,
     "metadata": {},
     "output_type": "execute_result"
    }
   ],
   "source": [
    "conv = nn.Conv2d(3, 16, kernel_size=3)\n",
    "conv.weight"
   ]
  },
  {
   "cell_type": "code",
   "execution_count": 3,
   "id": "219b820e",
   "metadata": {},
   "outputs": [
    {
     "data": {
      "text/plain": [
       "(torch.Size([16, 3, 3, 3]), torch.Size([16]))"
      ]
     },
     "execution_count": 3,
     "metadata": {},
     "output_type": "execute_result"
    }
   ],
   "source": [
    "conv.weight.shape, conv.bias.shape"
   ]
  },
  {
   "cell_type": "code",
   "execution_count": 4,
   "id": "26460b84",
   "metadata": {},
   "outputs": [],
   "source": [
    "from torchvision.datasets import CIFAR10\n",
    "from torchvision import transforms"
   ]
  },
  {
   "cell_type": "code",
   "execution_count": 5,
   "id": "c60a2918",
   "metadata": {},
   "outputs": [],
   "source": [
    "data_path = '../data-unversioned/p1ch7'\n",
    "normalize = transforms.Normalize((.4915, .4823, .4468), (.2470, .2435, .2616))\n",
    "transform = transforms.Compose([\n",
    "    transforms.ToTensor(),\n",
    "    normalize\n",
    "])\n",
    "\n",
    "\n",
    "cifar10 = CIFAR10(data_path, train=True, download=False, transform=transform)\n",
    "cifar10_val = CIFAR10(data_path, train=False, download=False, transform=transform)"
   ]
  },
  {
   "cell_type": "code",
   "execution_count": 6,
   "id": "f10d7603",
   "metadata": {},
   "outputs": [],
   "source": [
    "label_map = {0: 0, 2: 1}\n",
    "cifar2 = [(img, label_map[i]) for img, i in cifar10 if i in [0, 2]]\n",
    "cifar2_v = [(img, label_map[i]) for img, i in cifar10_val if i in [0, 2]]"
   ]
  },
  {
   "cell_type": "code",
   "execution_count": 7,
   "id": "9784bc69",
   "metadata": {},
   "outputs": [
    {
     "data": {
      "text/plain": [
       "10000"
      ]
     },
     "execution_count": 7,
     "metadata": {},
     "output_type": "execute_result"
    }
   ],
   "source": [
    "len(cifar2)"
   ]
  },
  {
   "cell_type": "code",
   "execution_count": 8,
   "id": "6c1fca44",
   "metadata": {},
   "outputs": [],
   "source": [
    "del cifar10, cifar10_val"
   ]
  },
  {
   "cell_type": "code",
   "execution_count": 9,
   "id": "f71626d8",
   "metadata": {},
   "outputs": [
    {
     "name": "stderr",
     "output_type": "stream",
     "text": [
      "Clipping input data to the valid range for imshow with RGB data ([0..1] for floats or [0..255] for integers).\n"
     ]
    },
    {
     "data": {
      "image/png": "[encoded data removed]",
      "text/plain": [
       "<Figure size 432x288 with 1 Axes>"
      ]
     },
     "metadata": {
      "needs_background": "light"
     },
     "output_type": "display_data"
    }
   ],
   "source": [
    "img, _ = cifar2[0]\n",
    "_ = plt.imshow(img.permute(1, 2, 0))\n"
   ]
  },
  {
   "cell_type": "code",
   "execution_count": 10,
   "id": "1b31fc4b",
   "metadata": {},
   "outputs": [
    {
     "data": {
      "text/plain": [
       "(torch.Size([1, 3, 32, 32]), torch.Size([1, 16, 30, 30]))"
      ]
     },
     "execution_count": 10,
     "metadata": {},
     "output_type": "execute_result"
    }
   ],
   "source": [
    "output = conv(img.unsqueeze(0))\n",
    "img.unsqueeze(0).shape, output.shape"
   ]
  },
  {
   "cell_type": "code",
   "execution_count": 11,
   "id": "20ea3b2c",
   "metadata": {},
   "outputs": [
    {
     "data": {
      "text/plain": [
       "<matplotlib.image.AxesImage at 0x1bcdddf8310>"
      ]
     },
     "execution_count": 11,
     "metadata": {},
     "output_type": "execute_result"
    },
    {
     "data": {
      "image/png": "[encoded data removed]",
      "text/plain": [
       "<Figure size 432x288 with 1 Axes>"
      ]
     },
     "metadata": {
      "needs_background": "light"
     },
     "output_type": "display_data"
    }
   ],
   "source": [
    "plt.imshow(output[0, 0].detach(), cmap='gray')"
   ]
  },
  {
   "cell_type": "code",
   "execution_count": 12,
   "id": "3da8a1b9",
   "metadata": {},
   "outputs": [
    {
     "data": {
      "text/plain": [
       "(torch.Size([1, 3, 32, 32]), torch.Size([1, 1, 32, 32]))"
      ]
     },
     "execution_count": 12,
     "metadata": {},
     "output_type": "execute_result"
    }
   ],
   "source": [
    "conv = nn.Conv2d(3, 1, kernel_size=3, padding=1)\n",
    "output = conv(img.unsqueeze(0))\n",
    "img.unsqueeze(0).shape, output.shape"
   ]
  },
  {
   "cell_type": "code",
   "execution_count": 13,
   "id": "c1bb7307",
   "metadata": {},
   "outputs": [],
   "source": [
    "with torch.no_grad():\n",
    "    conv.bias.zero_()\n",
    "    conv.weight.fill_(1.0 / 9.0)"
   ]
  },
  {
   "cell_type": "code",
   "execution_count": 14,
   "id": "24c0a719",
   "metadata": {},
   "outputs": [
    {
     "data": {
      "text/plain": [
       "<matplotlib.image.AxesImage at 0x1bcdde59340>"
      ]
     },
     "execution_count": 14,
     "metadata": {},
     "output_type": "execute_result"
    },
    {
     "data": {
      "image/png": "[encoded data removed]",
      "text/plain": [
       "<Figure size 432x288 with 1 Axes>"
      ]
     },
     "metadata": {
      "needs_background": "light"
     },
     "output_type": "display_data"
    }
   ],
   "source": [
    "output = conv(img.unsqueeze(0))\n",
    "plt.imshow(output[0, 0].detach())"
   ]
  },
  {
   "cell_type": "code",
   "execution_count": 15,
   "id": "1e6412a3",
   "metadata": {},
   "outputs": [
    {
     "data": {
      "text/plain": [
       "Parameter containing:\n",
       "tensor([[[[0.1111, 0.1111, 0.1111],\n",
       "          [0.1111, 0.1111, 0.1111],\n",
       "          [0.1111, 0.1111, 0.1111]],\n",
       "\n",
       "         [[0.1111, 0.1111, 0.1111],\n",
       "          [0.1111, 0.1111, 0.1111],\n",
       "          [0.1111, 0.1111, 0.1111]],\n",
       "\n",
       "         [[0.1111, 0.1111, 0.1111],\n",
       "          [0.1111, 0.1111, 0.1111],\n",
       "          [0.1111, 0.1111, 0.1111]]]], requires_grad=True)"
      ]
     },
     "execution_count": 15,
     "metadata": {},
     "output_type": "execute_result"
    }
   ],
   "source": [
    "conv.weight"
   ]
  },
  {
   "cell_type": "code",
   "execution_count": 16,
   "id": "17fbd966",
   "metadata": {},
   "outputs": [],
   "source": [
    "conv = nn.Conv2d(3, 1, kernel_size=(2, 16), padding=1)\n",
    "with torch.no_grad():\n",
    "    conv.weight[:] = torch.tensor([[-10, 10, 10, -10, -10, 10, 10, -10]*2,\n",
    "                                   [-10, 15, 15, -10, -10, 15, 15, -10]*2])\n",
    "    conv.bias.zero_()"
   ]
  },
  {
   "cell_type": "code",
   "execution_count": 17,
   "id": "f1aa8338",
   "metadata": {},
   "outputs": [
    {
     "data": {
      "text/plain": [
       "<matplotlib.image.AxesImage at 0x1bcddebe580>"
      ]
     },
     "execution_count": 17,
     "metadata": {},
     "output_type": "execute_result"
    },
    {
     "data": {
      "image/png": "[encoded data removed]",
      "text/plain": [
       "<Figure size 432x288 with 1 Axes>"
      ]
     },
     "metadata": {
      "needs_background": "light"
     },
     "output_type": "display_data"
    }
   ],
   "source": [
    "output = conv(img.unsqueeze(0))\n",
    "plt.imshow(output[0,0].detach(), cmap='gray')"
   ]
  },
  {
   "cell_type": "code",
   "execution_count": 18,
   "id": "491e23cb",
   "metadata": {},
   "outputs": [
    {
     "name": "stderr",
     "output_type": "stream",
     "text": [
      "Clipping input data to the valid range for imshow with RGB data ([0..1] for floats or [0..255] for integers).\n"
     ]
    },
    {
     "data": {
      "text/plain": [
       "<matplotlib.image.AxesImage at 0x1bcddf1b310>"
      ]
     },
     "execution_count": 18,
     "metadata": {},
     "output_type": "execute_result"
    },
    {
     "data": {
      "image/png": "[encoded data removed]",
      "text/plain": [
       "<Figure size 432x288 with 1 Axes>"
      ]
     },
     "metadata": {
      "needs_background": "light"
     },
     "output_type": "display_data"
    }
   ],
   "source": [
    "plt.imshow(img.permute(1, 2, 0), cmap='gray')"
   ]
  },
  {
   "cell_type": "code",
   "execution_count": 19,
   "id": "51d188b1",
   "metadata": {},
   "outputs": [
    {
     "name": "stderr",
     "output_type": "stream",
     "text": [
      "C:\\Users\\AbdulrazzakAbd\\Anaconda3\\lib\\site-packages\\torch\\nn\\functional.py:718: UserWarning: Named tensors and all their associated APIs are an experimental feature and subject to change. Please do not use them for anything important until they are released as stable. (Triggered internally at  ..\\c10/core/TensorImpl.h:1156.)\n",
      "  return torch.max_pool2d(input, kernel_size, stride, padding, dilation, ceil_mode)\n"
     ]
    },
    {
     "data": {
      "text/plain": [
       "(torch.Size([1, 3, 32, 32]), torch.Size([1, 3, 16, 16]))"
      ]
     },
     "execution_count": 19,
     "metadata": {},
     "output_type": "execute_result"
    }
   ],
   "source": [
    "pool = nn.MaxPool2d(2)\n",
    "output = pool(img.unsqueeze(0))\n",
    "\n",
    "img.unsqueeze(0).shape, output.shape"
   ]
  },
  {
   "cell_type": "code",
   "execution_count": 20,
   "id": "5f2bef73",
   "metadata": {},
   "outputs": [],
   "source": [
    "model = nn.Sequential(\n",
    "    nn.Conv2d(3, 16, kernel_size=3, padding=1),\n",
    "    nn.Tanh(),\n",
    "    nn.MaxPool2d(2),\n",
    "    nn.Conv2d(16, 8, kernel_size=3, padding=1),\n",
    "    nn.MaxPool2d(2),\n",
    "    nn.Flatten(),\n",
    "    nn.Linear(8 * 8 * 8, 32),\n",
    "    nn.Tanh(),\n",
    "    nn.Linear(32, 2)\n",
    ")"
   ]
  },
  {
   "cell_type": "code",
   "execution_count": 21,
   "id": "01773fcf",
   "metadata": {},
   "outputs": [
    {
     "data": {
      "text/plain": [
       "18090"
      ]
     },
     "execution_count": 21,
     "metadata": {},
     "output_type": "execute_result"
    }
   ],
   "source": [
    "sum([p.numel() for p in model.parameters()])"
   ]
  },
  {
   "cell_type": "code",
   "execution_count": 22,
   "id": "af3ccfc7",
   "metadata": {},
   "outputs": [],
   "source": [
    "class Net(nn.Module):\n",
    "    def __init__(self):\n",
    "        super().__init__()\n",
    "        self.conv1 = nn.Conv2d(3, 16, kernel_size=3, padding=1)\n",
    "        self.act1 = nn.Tanh()\n",
    "        self.pool1 = nn.MaxPool2d(2)\n",
    "        self.conv2 = nn.Conv2d(16, 8, kernel_size=3, padding=1)\n",
    "        self.act2 = nn.Tanh()\n",
    "        self.pool2 = nn.MaxPool2d(2)\n",
    "        self.fc1 = nn.Linear(8 * 8 * 8, 32)\n",
    "        self.act3 = nn.Tanh()\n",
    "        self.fc2 = nn.Linear(32, 2)\n",
    "        \n",
    "    def forward(self, x):\n",
    "        out = self.conv1(x)\n",
    "        out = self.act1(out)\n",
    "        out = self.pool1(out)\n",
    "        out = self.conv2(out)\n",
    "        out = self.act2(out)\n",
    "        out = self.pool2(out)\n",
    "        out = out.view(-1, 8 * 8 * 8)\n",
    "        out = self.fc1(out)\n",
    "        out = self.act3(out)\n",
    "        return out"
   ]
  },
  {
   "cell_type": "code",
   "execution_count": 23,
   "id": "c16200ad",
   "metadata": {},
   "outputs": [],
   "source": [
    "import torch.nn.functional as F\n",
    "\n",
    "class Net(nn.Module):\n",
    "    def __init__(self):\n",
    "        super().__init__()\n",
    "        self.conv1 = nn.Conv2d(3, 16, kernel_size=3, padding=1)\n",
    "        self.conv2 = nn.Conv2d(16, 12, kernel_size=3, padding=1)\n",
    "        self.conv3 = nn.Conv2d(12, 8, kernel_size=3, padding=1)\n",
    "        self.fc1 = nn.Linear(8 * 8 * 8, 64)\n",
    "        self.fc2 = nn.Linear(64, 32)\n",
    "        self.fc3 = nn.Linear(32, 2)\n",
    "        \n",
    "    def forward(self, x):\n",
    "        out = torch.tanh(self.conv1(x))\n",
    "        out = F.max_pool2d(torch.tanh(self.conv2(out)), 2)\n",
    "        out = F.max_pool2d(torch.tanh(self.conv3(out)), 2)\n",
    "        out = out.view(-1, 8 * 8 * 8)\n",
    "        out = torch.tanh(self.fc1(out))\n",
    "        out = torch.tanh(self.fc2(out))\n",
    "        out = self.fc3(out)\n",
    "        return out"
   ]
  },
  {
   "cell_type": "code",
   "execution_count": 24,
   "id": "10cad761",
   "metadata": {},
   "outputs": [],
   "source": [
    "import datetime\n",
    "\n",
    "def training_loop(n_epochs, optimizer, model, loss_fn, train_loader):\n",
    "    for epoch in range(1, n_epochs+1):\n",
    "        loss_train = 0.0\n",
    "        for imgs, labels in train_loader:\n",
    "            outputs = model(imgs)\n",
    "            loss = loss_fn(outputs, labels)\n",
    "            optimizer.zero_grad()\n",
    "            loss.backward()\n",
    "            optimizer.step()\n",
    "            loss_train += loss.item()\n",
    "            \n",
    "        if epoch == 1 or epoch % 5 == 0:\n",
    "            print(f'{datetime.datetime.now()} epoch {epoch}: Training loss {loss_train / len(train_loader)}')"
   ]
  },
  {
   "cell_type": "code",
   "execution_count": 25,
   "id": "5f34325a",
   "metadata": {},
   "outputs": [],
   "source": [
    "train_loader = torch.utils.data.DataLoader(cifar2, batch_size=64, shuffle=True)\n",
    "model = Net()\n",
    "optimizer = torch.optim.SGD(model.parameters(), lr=1e-2)\n",
    "loss_fn = nn.CrossEntropyLoss()"
   ]
  },
  {
   "cell_type": "code",
   "execution_count": 26,
   "id": "2c2f8ce5",
   "metadata": {},
   "outputs": [
    {
     "name": "stdout",
     "output_type": "stream",
     "text": [
      "2021-10-11 13:40:06.010425 epoch 1: Training loss 0.6228725756429563\n",
      "2021-10-11 13:41:00.052812 epoch 5: Training loss 0.4617469327844632\n",
      "2021-10-11 13:42:18.987205 epoch 10: Training loss 0.3868536584696193\n",
      "2021-10-11 13:43:29.404077 epoch 15: Training loss 0.32492125262120725\n",
      "2021-10-11 13:44:25.369867 epoch 20: Training loss 0.31159088926710143\n",
      "2021-10-11 13:45:33.094526 epoch 25: Training loss 0.2982705263480259\n",
      "2021-10-11 13:46:28.322463 epoch 30: Training loss 0.2882431686683825\n",
      "2021-10-11 13:47:22.947699 epoch 35: Training loss 0.2747891940129031\n",
      "2021-10-11 13:48:16.095008 epoch 40: Training loss 0.2618176298346489\n",
      "2021-10-11 13:49:07.680293 epoch 45: Training loss 0.2496038559990324\n",
      "2021-10-11 13:50:00.077359 epoch 50: Training loss 0.23739829906232798\n"
     ]
    }
   ],
   "source": [
    "training_loop(\n",
    "    n_epochs=50,\n",
    "    optimizer=optimizer,\n",
    "    model=model,\n",
    "    loss_fn=loss_fn,\n",
    "    train_loader=train_loader\n",
    ")"
   ]
  },
  {
   "cell_type": "code",
   "execution_count": 27,
   "id": "681349d7",
   "metadata": {},
   "outputs": [],
   "source": [
    "val_loader = torch.utils.data.DataLoader(cifar2_v, batch_size=64, shuffle=False)\n",
    "\n",
    "def validate(model, train_loader, val_loader):\n",
    "    for name, loader in [(\"train\", train_loader), (\"val\", val_loader)]:\n",
    "        correct = 0\n",
    "        total = 0\n",
    "        with torch.no_grad():\n",
    "            for imgs, labels in loader:\n",
    "                outputs = model(imgs)\n",
    "                _, predicted = torch.max(outputs, dim=1)\n",
    "                total += labels.shape[0]\n",
    "                correct += int((predicted == labels).sum())\n",
    "        print(f\"Accuracy {name}: {correct/total:.2f}\")"
   ]
  },
  {
   "cell_type": "code",
   "execution_count": 28,
   "id": "ea5022ef",
   "metadata": {
    "scrolled": true
   },
   "outputs": [
    {
     "name": "stdout",
     "output_type": "stream",
     "text": [
      "Accuracy train: 0.90\n",
      "Accuracy val: 0.89\n"
     ]
    }
   ],
   "source": [
    "validate(model, train_loader, val_loader)"
   ]
  },
  {
   "cell_type": "code",
   "execution_count": 29,
   "id": "59b2401c",
   "metadata": {},
   "outputs": [],
   "source": [
    "def validate(model, train_data, val_data):\n",
    "    for name, loader in [('train', train_data), ('val', val_data)]:\n",
    "        correct = 0\n",
    "        total = 0\n",
    "        with torch.no_grad():\n",
    "            for batch, labels in loader:\n",
    "                output = model(batch)\n",
    "                total += labels.shape[0]\n",
    "                _, predicted = torch.max(output, dim=1)\n",
    "                correct += (predicted == labels).sum().item()\n",
    "            print(f'{name} Accuracy: {correct/total:.2f}') "
   ]
  },
  {
   "cell_type": "code",
   "execution_count": 30,
   "id": "a154d0d5",
   "metadata": {},
   "outputs": [
    {
     "name": "stdout",
     "output_type": "stream",
     "text": [
      "train Accuracy: 0.90\n",
      "val Accuracy: 0.89\n"
     ]
    }
   ],
   "source": [
    "validate(model, train_loader, val_loader)"
   ]
  },
  {
   "cell_type": "code",
   "execution_count": 31,
   "id": "4a043fb7",
   "metadata": {},
   "outputs": [],
   "source": [
    "torch.save(model.state_dict(), 'birds_vs_planes_cifar.pt')"
   ]
  },
  {
   "cell_type": "code",
   "execution_count": 32,
   "id": "b4ba95d6",
   "metadata": {
    "scrolled": true
   },
   "outputs": [
    {
     "data": {
      "text/plain": [
       "<All keys matched successfully>"
      ]
     },
     "execution_count": 32,
     "metadata": {},
     "output_type": "execute_result"
    }
   ],
   "source": [
    "load_model = Net()\n",
    "load_model.load_state_dict(torch.load('birds_vs_planes_cifar.pt'))"
   ]
  },
  {
   "cell_type": "code",
   "execution_count": 33,
   "id": "daac8b1b",
   "metadata": {},
   "outputs": [],
   "source": [
    "class NetDropOut(nn.Module):\n",
    "    def __init__(self, n_chans1=32):\n",
    "        super().__init__()\n",
    "        self.n_chans1 = n_chans1\n",
    "        self.conv1 = nn.Conv2d(3, n_chans1, kernel_size=3, padding=1)\n",
    "        self.conv1_dropout = nn.Dropout2d(p=0.4)\n",
    "        \n",
    "        self.conv2 = nn.Conv2d(n_chans1, n_chans1//2, kernel_size=3, padding=1)\n",
    "        self.conv2_dropout = nn.Dropout2d(p=0.4)\n",
    "        \n",
    "        self.fc1 = nn.Linear(n_chans1//2 * 8 * 8, 32)\n",
    "        self.fc2 = nn.Linear(32, 2)\n",
    "        \n",
    "    def forward(self, x):\n",
    "        out = F.max_pool2d(torch.tanh(self.conv1(x)), 2)\n",
    "        out = self.conv1_dropout(out)\n",
    "        out = F.max_pool2d(torch.tanh(self.conv2(out)), 2)\n",
    "        out = self.conv2_dropout(out)\n",
    "        out = out.view(-1, 8 * 8  * (self.n_chans1//2))\n",
    "        out = torch.tanh(self.fc1(out))\n",
    "        out = self.fc2(out)\n",
    "        return out\n",
    "    "
   ]
  },
  {
   "cell_type": "code",
   "execution_count": 34,
   "id": "0e91729f",
   "metadata": {},
   "outputs": [],
   "source": [
    "class NetBatchNorm(nn.Module):\n",
    "    def __init__(self, n_chans1):\n",
    "        super().__init__()\n",
    "        self.n_chans1 = n_chans1\n",
    "        self.conv1 = nn.Conv2d(3, n_chans1, kernel_size=3, padding=1)\n",
    "        self.conv1_batchnorm = nn.BatchNorm2d(num_features=n_chans1)\n",
    "        \n",
    "        self.conv2 = nn.Conv2d(n_chans1, n_chans1//2, kernel_size=3, padding=1)\n",
    "        self.conv2_batchnorm = nn.BatchNorm2d(num_features=n_chans1//2)\n",
    "        \n",
    "        self.fc1 = nn.Linear(8 * 8 * n_chans1//2, 32)\n",
    "        self.fc1 = nn.Linear(32, 2)\n",
    "        \n",
    "    def forward(self, x):\n",
    "        out = self.conv1_batchnorm(self.conv1(x))\n",
    "        out = F.max_pool2d(torch.tanh(out))\n",
    "        out = self.conv2_batchnorm(self.conv2(x))\n",
    "        out = F.max_pool2d(torch.tanh(out))\n",
    "        out = out.view(-1, 8 * 8 * self.n_chans1 // 2)\n",
    "        out = torch.tanh(self.fc1(out))\n",
    "        out = self.fc2(out)\n",
    "        return out"
   ]
  },
  {
   "cell_type": "code",
   "execution_count": 36,
   "id": "40d6683b",
   "metadata": {},
   "outputs": [],
   "source": [
    "class NetDepth(nn.Module):\n",
    "    def __init__(self, n_chans1=32):\n",
    "        super().__init__()\n",
    "        self.n_chans1 = n_chans1\n",
    "        self.conv1 = nn.Conv2d(3, n_chans1, kernel_size=3, padding=1)\n",
    "        self.conv2 = nn.Conv2d(n_chans1, n_chans1//2, kernel_size=3, padding=1)\n",
    "        self.conv3 = nn.Conv2d(n_chans1//2, n_chans1//2, kernel_size=3, padding=1)\n",
    "        self.fc1 = nn.Linear(4 * 4 * n_chans1//2, 32)\n",
    "        self.fc2 = nn.Linear(32, 2)\n",
    "        \n",
    "    def forward(self):\n",
    "        out = F.max_pool2d(torch.relu(self.conv1(x)), 2)\n",
    "        out = F.max_pool2d(torch.relu(self.conv2(out)), 2)\n",
    "        out = F.max_pool2d(torch.relu(self.conv3(out)), 2)\n",
    "        out = out.view(-1, 4 * 4 * self.n_chans1//2)\n",
    "        out = torch.relu(self.fc1(out))\n",
    "        out = self.fc2(out)\n",
    "        return out"
   ]
  },
  {
   "cell_type": "code",
   "execution_count": 37,
   "id": "2b5b08b0",
   "metadata": {},
   "outputs": [],
   "source": [
    "class NetRes(nn.Module):\n",
    "    def __init__(self, n_chans1=32):\n",
    "        super().__init__()\n",
    "        self.n_chans1 = n_chans1\n",
    "        self.conv1 = nn.Conv2d(3, n_chans1, kernel_size=3, padding=1)\n",
    "        self.conv2 = nn.Conv2d(n_chans1, n_chans1//2, kernel_size=3, padding=1)\n",
    "        self.conv3 = nn.Conv2d(n_chans1//2, n_chans1//2, kernel_size=3, padding=1)\n",
    "        self.fc1 = nn.Linear(4 * 4 * n_chans1//2, 32)\n",
    "        self.fc2 = nn.Linear(32, 2)\n",
    "        \n",
    "    def forward(self):\n",
    "        out = F.max_pool2d(torch.relu(self.conv1(x)), 2)\n",
    "        out = F.max_pool2d(torch.relu(self.conv2(out)), 2)\n",
    "        out1 = out\n",
    "        out = F.max_pool2d(torch.relu(self.conv3(out)) + out1, 2)\n",
    "        out = torch.relu(self.fc1(out))\n",
    "        out = torch.fc2(out)\n",
    "        return out"
   ]
  },
  {
   "cell_type": "code",
   "execution_count": 43,
   "id": "ff2e88f9",
   "metadata": {},
   "outputs": [],
   "source": [
    "class ResBlock(nn.Module):\n",
    "    def __init__(self, n_chans):\n",
    "        super().__init__()\n",
    "        self.conv = nn.Conv2d(n_chans, n_chans, kernel_size=3, padding=1, bias=False)\n",
    "        self.batch_norm = nn.BatchNorm2d(num_features=n_chans)\n",
    "        torch.nn.init.kaiming_normal_(self.conv.weight, nonlinearity='relu')\n",
    "        torch.nn.init.constant_(self.batch_norm.weight, 0.5)\n",
    "        torch.nn.init.zeros_(self.batch_norm.bias)\n",
    "        \n",
    "    def forward(self, x):\n",
    "        out = self.conv(x)\n",
    "        out = self.batch_norm(out)\n",
    "        out = torch.relu(out)\n",
    "        return out + x"
   ]
  },
  {
   "cell_type": "code",
   "execution_count": 61,
   "id": "6035c53c",
   "metadata": {},
   "outputs": [],
   "source": [
    "class NetResDeep(nn.Module):\n",
    "    def __init__(self, n_chans1=32, n_blocks=10):\n",
    "        super().__init__()\n",
    "        self.n_chans1 = n_chans1\n",
    "        self.conv1 = nn.Conv2d(3, n_chans1, kernel_size=3, padding=1)\n",
    "        self.resblocks = nn.Sequential(*(n_blocks * [ResBlock(n_chans=n_chans1)]))\n",
    "        self.fc1 = nn.Linear(8 * 8 * n_chans1, 32)\n",
    "        self.fc2 = nn.Linear(32, 2)\n",
    "        \n",
    "    def forward(self, x):\n",
    "        out = F.max_pool2d(torch.relu(self.conv1(x)), 2)\n",
    "        out = F.max_pool2d(self.resblocks(out), 2)\n",
    "        out = out.view(-1, 8 * 8 * self.n_chans1)\n",
    "        out = torch.relu(self.fc1(out))\n",
    "        out = torch.relu(self.fc2(out))\n",
    "        return out"
   ]
  },
  {
   "cell_type": "code",
   "execution_count": 62,
   "id": "efc55ef1",
   "metadata": {},
   "outputs": [
    {
     "data": {
      "text/plain": [
       "NetResDeep(\n",
       "  (conv1): Conv2d(3, 32, kernel_size=(3, 3), stride=(1, 1), padding=(1, 1))\n",
       "  (resblocks): Sequential(\n",
       "    (0): ResBlock(\n",
       "      (conv): Conv2d(32, 32, kernel_size=(3, 3), stride=(1, 1), padding=(1, 1), bias=False)\n",
       "      (batch_norm): BatchNorm2d(32, eps=1e-05, momentum=0.1, affine=True, track_running_stats=True)\n",
       "    )\n",
       "    (1): ResBlock(\n",
       "      (conv): Conv2d(32, 32, kernel_size=(3, 3), stride=(1, 1), padding=(1, 1), bias=False)\n",
       "      (batch_norm): BatchNorm2d(32, eps=1e-05, momentum=0.1, affine=True, track_running_stats=True)\n",
       "    )\n",
       "    (2): ResBlock(\n",
       "      (conv): Conv2d(32, 32, kernel_size=(3, 3), stride=(1, 1), padding=(1, 1), bias=False)\n",
       "      (batch_norm): BatchNorm2d(32, eps=1e-05, momentum=0.1, affine=True, track_running_stats=True)\n",
       "    )\n",
       "    (3): ResBlock(\n",
       "      (conv): Conv2d(32, 32, kernel_size=(3, 3), stride=(1, 1), padding=(1, 1), bias=False)\n",
       "      (batch_norm): BatchNorm2d(32, eps=1e-05, momentum=0.1, affine=True, track_running_stats=True)\n",
       "    )\n",
       "    (4): ResBlock(\n",
       "      (conv): Conv2d(32, 32, kernel_size=(3, 3), stride=(1, 1), padding=(1, 1), bias=False)\n",
       "      (batch_norm): BatchNorm2d(32, eps=1e-05, momentum=0.1, affine=True, track_running_stats=True)\n",
       "    )\n",
       "    (5): ResBlock(\n",
       "      (conv): Conv2d(32, 32, kernel_size=(3, 3), stride=(1, 1), padding=(1, 1), bias=False)\n",
       "      (batch_norm): BatchNorm2d(32, eps=1e-05, momentum=0.1, affine=True, track_running_stats=True)\n",
       "    )\n",
       "    (6): ResBlock(\n",
       "      (conv): Conv2d(32, 32, kernel_size=(3, 3), stride=(1, 1), padding=(1, 1), bias=False)\n",
       "      (batch_norm): BatchNorm2d(32, eps=1e-05, momentum=0.1, affine=True, track_running_stats=True)\n",
       "    )\n",
       "    (7): ResBlock(\n",
       "      (conv): Conv2d(32, 32, kernel_size=(3, 3), stride=(1, 1), padding=(1, 1), bias=False)\n",
       "      (batch_norm): BatchNorm2d(32, eps=1e-05, momentum=0.1, affine=True, track_running_stats=True)\n",
       "    )\n",
       "    (8): ResBlock(\n",
       "      (conv): Conv2d(32, 32, kernel_size=(3, 3), stride=(1, 1), padding=(1, 1), bias=False)\n",
       "      (batch_norm): BatchNorm2d(32, eps=1e-05, momentum=0.1, affine=True, track_running_stats=True)\n",
       "    )\n",
       "    (9): ResBlock(\n",
       "      (conv): Conv2d(32, 32, kernel_size=(3, 3), stride=(1, 1), padding=(1, 1), bias=False)\n",
       "      (batch_norm): BatchNorm2d(32, eps=1e-05, momentum=0.1, affine=True, track_running_stats=True)\n",
       "    )\n",
       "  )\n",
       "  (fc1): Linear(in_features=2048, out_features=32, bias=True)\n",
       "  (fc2): Linear(in_features=32, out_features=2, bias=True)\n",
       ")"
      ]
     },
     "execution_count": 62,
     "metadata": {},
     "output_type": "execute_result"
    }
   ],
   "source": [
    "a = NetResDeep()\n",
    "a.train()"
   ]
  },
  {
   "cell_type": "code",
   "execution_count": 63,
   "id": "ee03d2f3",
   "metadata": {},
   "outputs": [],
   "source": [
    "train_loader = torch.utils.data.DataLoader(cifar2, batch_size=64, shuffle=True)\n",
    "optimizer = torch.optim.SGD(model.parameters(), lr=1e-4)\n",
    "loss_fn = nn.CrossEntropyLoss()"
   ]
  },
  {
   "cell_type": "code",
   "execution_count": null,
   "id": "8e322669",
   "metadata": {},
   "outputs": [],
   "source": [
    "training_loop(\n",
    "    n_epochs=50,\n",
    "    optimizer=optimizer,\n",
    "    model=a,\n",
    "    loss_fn=loss_fn,\n",
    "    train_loader=train_loader\n",
    ")"
   ]
  }
 ],
 "metadata": {
  "kernelspec": {
   "display_name": "Python 3",
   "language": "python",
   "name": "python3"
  },
  "language_info": {
   "codemirror_mode": {
    "name": "ipython",
    "version": 3
   },
   "file_extension": ".py",
   "mimetype": "text/x-python",
   "name": "python",
   "nbconvert_exporter": "python",
   "pygments_lexer": "ipython3",
   "version": "3.8.8"
  }
 },
 "nbformat": 4,
 "nbformat_minor": 5
}

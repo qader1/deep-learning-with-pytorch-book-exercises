{
 "cells": [
  {
   "cell_type": "code",
   "execution_count": 2,
   "id": "c9f0209b",
   "metadata": {},
   "outputs": [],
   "source": [
    "import torch"
   ]
  },
  {
   "cell_type": "code",
   "execution_count": 3,
   "id": "7418f3d3",
   "metadata": {},
   "outputs": [
    {
     "data": {
      "text/plain": [
       "tensor([1., 1., 1.])"
      ]
     },
     "execution_count": 3,
     "metadata": {},
     "output_type": "execute_result"
    }
   ],
   "source": [
    "a = torch.ones(3)\n",
    "a"
   ]
  },
  {
   "cell_type": "code",
   "execution_count": 4,
   "id": "5055158a",
   "metadata": {},
   "outputs": [
    {
     "data": {
      "text/plain": [
       "tensor(1.)"
      ]
     },
     "execution_count": 4,
     "metadata": {},
     "output_type": "execute_result"
    }
   ],
   "source": [
    "a[1]"
   ]
  },
  {
   "cell_type": "code",
   "execution_count": 5,
   "id": "2ebcd51e",
   "metadata": {},
   "outputs": [
    {
     "data": {
      "text/plain": [
       "1.0"
      ]
     },
     "execution_count": 5,
     "metadata": {},
     "output_type": "execute_result"
    }
   ],
   "source": [
    "float(a[1])"
   ]
  },
  {
   "cell_type": "code",
   "execution_count": 6,
   "id": "c20c467e",
   "metadata": {},
   "outputs": [
    {
     "data": {
      "text/plain": [
       "tensor([1., 1., 2.])"
      ]
     },
     "execution_count": 6,
     "metadata": {},
     "output_type": "execute_result"
    }
   ],
   "source": [
    "a[2] = 2.0\n",
    "a"
   ]
  },
  {
   "cell_type": "code",
   "execution_count": 7,
   "id": "ed245ae1",
   "metadata": {},
   "outputs": [
    {
     "data": {
      "text/plain": [
       "tensor([4., 1., 5., 3., 2., 1.])"
      ]
     },
     "execution_count": 7,
     "metadata": {},
     "output_type": "execute_result"
    }
   ],
   "source": [
    "points = torch.zeros(6)\n",
    "points[0] = 4.0\n",
    "points[1] = 1.0\n",
    "points[2] = 5.0\n",
    "points[3] = 3.0\n",
    "points[4] = 2.0\n",
    "points[5] = 1.0\n",
    "points"
   ]
  },
  {
   "cell_type": "code",
   "execution_count": 8,
   "id": "34971391",
   "metadata": {},
   "outputs": [
    {
     "data": {
      "text/plain": [
       "tensor([4., 1., 5., 3., 2., 1.])"
      ]
     },
     "execution_count": 8,
     "metadata": {},
     "output_type": "execute_result"
    }
   ],
   "source": [
    "points = torch.tensor([4., 1., 5., 3., 2., 1.])\n",
    "points"
   ]
  },
  {
   "cell_type": "code",
   "execution_count": 9,
   "id": "8dd507fa",
   "metadata": {
    "scrolled": true
   },
   "outputs": [
    {
     "data": {
      "text/plain": [
       "(4.0, 1.0)"
      ]
     },
     "execution_count": 9,
     "metadata": {},
     "output_type": "execute_result"
    }
   ],
   "source": [
    "(float(points[0]), float(points[1]))"
   ]
  },
  {
   "cell_type": "code",
   "execution_count": 10,
   "id": "c442c3b4",
   "metadata": {
    "scrolled": true
   },
   "outputs": [
    {
     "data": {
      "text/plain": [
       "tensor([[4, 1],\n",
       "        [5, 3],\n",
       "        [2, 1]])"
      ]
     },
     "execution_count": 10,
     "metadata": {},
     "output_type": "execute_result"
    }
   ],
   "source": [
    "points = torch.tensor([[4, 1], [5, 3], [2, 1]])\n",
    "points"
   ]
  },
  {
   "cell_type": "code",
   "execution_count": 11,
   "id": "3d1c8c94",
   "metadata": {
    "scrolled": true
   },
   "outputs": [
    {
     "data": {
      "text/plain": [
       "torch.Size([3, 2])"
      ]
     },
     "execution_count": 11,
     "metadata": {},
     "output_type": "execute_result"
    }
   ],
   "source": [
    "points.shape"
   ]
  },
  {
   "cell_type": "code",
   "execution_count": 12,
   "id": "67fa09fa",
   "metadata": {
    "scrolled": true
   },
   "outputs": [
    {
     "data": {
      "text/plain": [
       "tensor([[0., 0.],\n",
       "        [0., 0.],\n",
       "        [0., 0.]])"
      ]
     },
     "execution_count": 12,
     "metadata": {},
     "output_type": "execute_result"
    }
   ],
   "source": [
    "points = torch.zeros(3, 2)\n",
    "points"
   ]
  },
  {
   "cell_type": "code",
   "execution_count": 13,
   "id": "6a9b12bd",
   "metadata": {
    "scrolled": true
   },
   "outputs": [
    {
     "data": {
      "text/plain": [
       "tensor([[4, 1],\n",
       "        [5, 3],\n",
       "        [2, 1]])"
      ]
     },
     "execution_count": 13,
     "metadata": {},
     "output_type": "execute_result"
    }
   ],
   "source": [
    "points = torch.tensor([[4, 1], [5, 3], [2, 1]])\n",
    "points"
   ]
  },
  {
   "cell_type": "code",
   "execution_count": 14,
   "id": "9e94f9af",
   "metadata": {
    "scrolled": true
   },
   "outputs": [
    {
     "data": {
      "text/plain": [
       "tensor(1)"
      ]
     },
     "execution_count": 14,
     "metadata": {},
     "output_type": "execute_result"
    }
   ],
   "source": [
    "points[0, 1]"
   ]
  },
  {
   "cell_type": "code",
   "execution_count": 15,
   "id": "94f7e28c",
   "metadata": {
    "scrolled": true
   },
   "outputs": [
    {
     "data": {
      "text/plain": [
       "tensor([4, 1])"
      ]
     },
     "execution_count": 15,
     "metadata": {},
     "output_type": "execute_result"
    }
   ],
   "source": [
    "points[0]"
   ]
  },
  {
   "cell_type": "code",
   "execution_count": 16,
   "id": "d5d62067",
   "metadata": {},
   "outputs": [
    {
     "data": {
      "text/plain": [
       "tensor([[[-0.5346, -0.7613,  0.7779, -1.4300, -0.9307],\n",
       "         [-1.2261,  1.5960,  0.6441, -1.2763, -0.1124],\n",
       "         [-0.6230, -0.6284, -0.8696, -2.3454, -1.2815],\n",
       "         [-2.0183,  1.0363, -0.2085,  0.3285, -0.6981],\n",
       "         [ 0.4841, -1.9304,  0.2526, -1.5363,  1.5732]],\n",
       "\n",
       "        [[-0.2930,  1.2138,  0.4327,  0.1698,  0.1784],\n",
       "         [ 0.4695,  1.5551, -1.2823, -0.6927, -0.0596],\n",
       "         [-1.7574, -1.6159,  1.4351,  1.8992,  0.4771],\n",
       "         [ 0.1582, -0.4635,  0.8181,  0.2119,  0.3516],\n",
       "         [-0.5867,  0.1783, -0.5121, -0.1189,  0.0657]],\n",
       "\n",
       "        [[ 0.5527,  1.4617, -0.2140, -1.6112,  2.0653],\n",
       "         [-0.7964, -1.2322,  0.6630,  0.9990,  1.0171],\n",
       "         [-0.7456,  0.3325, -0.0992, -0.6060,  0.6136],\n",
       "         [ 0.6206,  0.4908,  0.9038,  0.4879, -0.3969],\n",
       "         [ 0.9457, -0.2703,  0.2455, -0.4590, -1.3970]]])"
      ]
     },
     "execution_count": 16,
     "metadata": {},
     "output_type": "execute_result"
    }
   ],
   "source": [
    "img_t = torch.randn(3, 5, 5)\n",
    "weights = torch.tensor([.2126, .7152, .0722])\n",
    "img_t"
   ]
  },
  {
   "cell_type": "code",
   "execution_count": 17,
   "id": "3dbcf4a9",
   "metadata": {},
   "outputs": [],
   "source": [
    "batch_t = torch.randn(2, 3, 5, 5)"
   ]
  },
  {
   "cell_type": "code",
   "execution_count": 55,
   "id": "d847d949",
   "metadata": {},
   "outputs": [
    {
     "data": {
      "text/plain": [
       "tensor([[[[-0.3931,  0.1803, -0.0423,  0.3829,  0.4416],\n",
       "          [-0.0640,  1.5556, -0.0960, -0.3524, -0.1562],\n",
       "          [ 1.6656, -1.5949,  1.2019,  0.2228, -1.0473],\n",
       "          [-2.5424, -1.6926, -1.2644, -0.5309, -0.7390],\n",
       "          [-0.1124,  0.3057,  0.6728, -0.9761,  1.4017]],\n",
       "\n",
       "         [[-1.2305, -0.8023,  1.3008,  0.0546,  1.1058],\n",
       "          [-0.6091,  0.5191,  0.3622,  1.1423,  0.1580],\n",
       "          [ 0.6545,  0.9755, -0.1896, -0.4290,  1.5417],\n",
       "          [-0.4910,  0.3291, -0.3541,  0.7433,  0.7658],\n",
       "          [ 1.5660, -0.4388, -1.8571,  2.3964,  0.5759]],\n",
       "\n",
       "         [[ 1.3430, -0.7632, -0.8078, -1.1484,  0.4083],\n",
       "          [ 0.4539, -0.2756,  1.4815,  1.2153,  0.4402],\n",
       "          [-0.7809, -1.7636, -0.4980,  0.2553, -0.8003],\n",
       "          [-1.4649,  0.9499,  0.5115,  1.8958, -1.8266],\n",
       "          [ 0.2827, -0.1447, -0.3887,  0.8262, -0.3963]]],\n",
       "\n",
       "\n",
       "        [[[-0.4921,  1.3545,  1.6018, -0.8820,  0.4370],\n",
       "          [-0.2096,  0.6384,  0.2816, -0.6146, -1.3000],\n",
       "          [-0.2500,  0.8358, -0.1121,  1.9445, -0.0237],\n",
       "          [ 1.8914,  0.0274,  2.2450,  0.7471, -1.6701],\n",
       "          [-0.2909,  2.2083, -0.5313, -0.6965,  1.6350]],\n",
       "\n",
       "         [[-0.2020, -0.9424, -0.4095, -1.5693,  0.2068],\n",
       "          [-2.8852,  0.0740, -0.9527, -1.6877,  0.1478],\n",
       "          [ 0.4105,  1.2232,  0.7931, -1.1833,  1.0460],\n",
       "          [ 0.0808, -0.4293,  1.2460, -1.3305,  1.6884],\n",
       "          [-2.1516,  0.1035,  0.8417, -1.2048,  0.3702]],\n",
       "\n",
       "         [[ 0.3157,  2.3267, -0.8233,  0.0213,  0.7794],\n",
       "          [-1.6510,  0.0539,  0.6271,  0.5293, -0.2309],\n",
       "          [ 0.6176,  2.2595,  0.6479, -0.0189, -1.9499],\n",
       "          [ 1.1741,  0.2716, -1.3388, -0.9629, -1.0042],\n",
       "          [ 0.0604, -1.0181, -0.0876,  0.4724, -1.2238]]]])"
      ]
     },
     "execution_count": 55,
     "metadata": {},
     "output_type": "execute_result"
    }
   ],
   "source": [
    "batch_t"
   ]
  },
  {
   "cell_type": "code",
   "execution_count": 59,
   "id": "bc071529",
   "metadata": {},
   "outputs": [
    {
     "data": {
      "text/plain": [
       "torch.Size([5, 5])"
      ]
     },
     "execution_count": 59,
     "metadata": {},
     "output_type": "execute_result"
    }
   ],
   "source": [
    "img_gray_naive = img_t.mean(-3)\n",
    "batch_gray_naive = batch_t.mean(-3)\n",
    "\n",
    "img_gray_naive.shape"
   ]
  },
  {
   "cell_type": "code",
   "execution_count": 60,
   "id": "1941451e",
   "metadata": {},
   "outputs": [
    {
     "data": {
      "text/plain": [
       "torch.Size([2, 5, 5])"
      ]
     },
     "execution_count": 60,
     "metadata": {},
     "output_type": "execute_result"
    }
   ],
   "source": [
    "batch_gray_naive.shape"
   ]
  },
  {
   "cell_type": "code",
   "execution_count": 70,
   "id": "7f611c0f",
   "metadata": {},
   "outputs": [
    {
     "data": {
      "text/plain": [
       "tensor([[[0.2126]],\n",
       "\n",
       "        [[0.7152]],\n",
       "\n",
       "        [[0.0722]]])"
      ]
     },
     "execution_count": 70,
     "metadata": {},
     "output_type": "execute_result"
    }
   ],
   "source": [
    "unsqueezed_weights = weights.unsqueeze(-1).unsqueeze(-1)\n",
    "unsqueezed_weights"
   ]
  },
  {
   "cell_type": "code",
   "execution_count": 71,
   "id": "80dbfd83",
   "metadata": {},
   "outputs": [],
   "source": [
    "img_weights = img_t * unsqueezed_weights"
   ]
  },
  {
   "cell_type": "code",
   "execution_count": 72,
   "id": "17fc5067",
   "metadata": {},
   "outputs": [],
   "source": [
    "batch_weights = (batch_t * unsqueezed_weights)"
   ]
  },
  {
   "cell_type": "code",
   "execution_count": 73,
   "id": "6807f0b0",
   "metadata": {},
   "outputs": [
    {
     "data": {
      "text/plain": [
       "tensor([[[[-8.3572e-02,  3.8324e-02, -9.0030e-03,  8.1412e-02,  9.3888e-02],\n",
       "          [-1.3603e-02,  3.3072e-01, -2.0415e-02, -7.4914e-02, -3.3210e-02],\n",
       "          [ 3.5410e-01, -3.3907e-01,  2.5553e-01,  4.7373e-02, -2.2265e-01],\n",
       "          [-5.4052e-01, -3.5984e-01, -2.6882e-01, -1.1286e-01, -1.5711e-01],\n",
       "          [-2.3892e-02,  6.4998e-02,  1.4303e-01, -2.0752e-01,  2.9800e-01]],\n",
       "\n",
       "         [[-8.8003e-01, -5.7381e-01,  9.3035e-01,  3.9066e-02,  7.9089e-01],\n",
       "          [-4.3566e-01,  3.7127e-01,  2.5901e-01,  8.1699e-01,  1.1298e-01],\n",
       "          [ 4.6811e-01,  6.9769e-01, -1.3561e-01, -3.0681e-01,  1.1026e+00],\n",
       "          [-3.5116e-01,  2.3539e-01, -2.5326e-01,  5.3162e-01,  5.4771e-01],\n",
       "          [ 1.1200e+00, -3.1386e-01, -1.3282e+00,  1.7139e+00,  4.1186e-01]],\n",
       "\n",
       "         [[ 9.6964e-02, -5.5105e-02, -5.8321e-02, -8.2917e-02,  2.9476e-02],\n",
       "          [ 3.2775e-02, -1.9900e-02,  1.0697e-01,  8.7745e-02,  3.1780e-02],\n",
       "          [-5.6381e-02, -1.2733e-01, -3.5958e-02,  1.8432e-02, -5.7782e-02],\n",
       "          [-1.0577e-01,  6.8582e-02,  3.6934e-02,  1.3688e-01, -1.3188e-01],\n",
       "          [ 2.0411e-02, -1.0445e-02, -2.8062e-02,  5.9653e-02, -2.8610e-02]]],\n",
       "\n",
       "\n",
       "        [[[-1.0462e-01,  2.8796e-01,  3.4055e-01, -1.8750e-01,  9.2899e-02],\n",
       "          [-4.4555e-02,  1.3572e-01,  5.9859e-02, -1.3066e-01, -2.7639e-01],\n",
       "          [-5.3140e-02,  1.7769e-01, -2.3830e-02,  4.1340e-01, -5.0376e-03],\n",
       "          [ 4.0212e-01,  5.8274e-03,  4.7729e-01,  1.5883e-01, -3.5506e-01],\n",
       "          [-6.1836e-02,  4.6948e-01, -1.1296e-01, -1.4807e-01,  3.4760e-01]],\n",
       "\n",
       "         [[-1.4447e-01, -6.7401e-01, -2.9290e-01, -1.1223e+00,  1.4789e-01],\n",
       "          [-2.0635e+00,  5.2914e-02, -6.8138e-01, -1.2070e+00,  1.0573e-01],\n",
       "          [ 2.9361e-01,  8.7480e-01,  5.6721e-01, -8.4631e-01,  7.4811e-01],\n",
       "          [ 5.7791e-02, -3.0701e-01,  8.9117e-01, -9.5154e-01,  1.2075e+00],\n",
       "          [-1.5388e+00,  7.4024e-02,  6.0196e-01, -8.6168e-01,  2.6479e-01]],\n",
       "\n",
       "         [[ 2.2792e-02,  1.6799e-01, -5.9439e-02,  1.5387e-03,  5.6270e-02],\n",
       "          [-1.1920e-01,  3.8904e-03,  4.5280e-02,  3.8216e-02, -1.6669e-02],\n",
       "          [ 4.4590e-02,  1.6314e-01,  4.6775e-02, -1.3673e-03, -1.4078e-01],\n",
       "          [ 8.4772e-02,  1.9607e-02, -9.6659e-02, -6.9523e-02, -7.2504e-02],\n",
       "          [ 4.3630e-03, -7.3505e-02, -6.3231e-03,  3.4107e-02, -8.8359e-02]]]])"
      ]
     },
     "execution_count": 73,
     "metadata": {},
     "output_type": "execute_result"
    }
   ],
   "source": [
    "batch_weights"
   ]
  },
  {
   "cell_type": "code",
   "execution_count": 74,
   "id": "de165808",
   "metadata": {},
   "outputs": [
    {
     "data": {
      "text/plain": [
       "tensor([[[0.2126]],\n",
       "\n",
       "        [[0.7152]],\n",
       "\n",
       "        [[0.0722]]])"
      ]
     },
     "execution_count": 74,
     "metadata": {},
     "output_type": "execute_result"
    }
   ],
   "source": [
    "unsqueezed_weights"
   ]
  },
  {
   "cell_type": "code",
   "execution_count": 75,
   "id": "cbab1b68",
   "metadata": {},
   "outputs": [
    {
     "data": {
      "text/plain": [
       "tensor([[[-0.5346, -0.7613,  0.7779, -1.4300, -0.9307],\n",
       "         [-1.2261,  1.5960,  0.6441, -1.2763, -0.1124],\n",
       "         [-0.6230, -0.6284, -0.8696, -2.3454, -1.2815],\n",
       "         [-2.0183,  1.0363, -0.2085,  0.3285, -0.6981],\n",
       "         [ 0.4841, -1.9304,  0.2526, -1.5363,  1.5732]],\n",
       "\n",
       "        [[-0.2930,  1.2138,  0.4327,  0.1698,  0.1784],\n",
       "         [ 0.4695,  1.5551, -1.2823, -0.6927, -0.0596],\n",
       "         [-1.7574, -1.6159,  1.4351,  1.8992,  0.4771],\n",
       "         [ 0.1582, -0.4635,  0.8181,  0.2119,  0.3516],\n",
       "         [-0.5867,  0.1783, -0.5121, -0.1189,  0.0657]],\n",
       "\n",
       "        [[ 0.5527,  1.4617, -0.2140, -1.6112,  2.0653],\n",
       "         [-0.7964, -1.2322,  0.6630,  0.9990,  1.0171],\n",
       "         [-0.7456,  0.3325, -0.0992, -0.6060,  0.6136],\n",
       "         [ 0.6206,  0.4908,  0.9038,  0.4879, -0.3969],\n",
       "         [ 0.9457, -0.2703,  0.2455, -0.4590, -1.3970]]])"
      ]
     },
     "execution_count": 75,
     "metadata": {},
     "output_type": "execute_result"
    }
   ],
   "source": [
    "img_t"
   ]
  },
  {
   "cell_type": "code",
   "execution_count": 76,
   "id": "977abbe1",
   "metadata": {},
   "outputs": [
    {
     "data": {
      "text/plain": [
       "tensor([[-0.2833,  0.8118,  0.4594, -0.2989,  0.0789],\n",
       "        [ 0.0176,  1.3626, -0.7323, -0.6946,  0.0069],\n",
       "        [-1.4432, -1.2653,  0.8344,  0.8159,  0.1131],\n",
       "        [-0.2711, -0.0757,  0.6061,  0.2566,  0.0744],\n",
       "        [-0.2484, -0.3024, -0.2948, -0.4448,  0.2806]])"
      ]
     },
     "execution_count": 76,
     "metadata": {},
     "output_type": "execute_result"
    }
   ],
   "source": [
    "img_gray_weighted = img_weights.sum(-3)\n",
    "img_gray_weighted"
   ]
  },
  {
   "cell_type": "code",
   "execution_count": 79,
   "id": "dcfbce78",
   "metadata": {},
   "outputs": [
    {
     "data": {
      "text/plain": [
       "tensor([[[-0.8666, -0.5906,  0.8630,  0.0376,  0.9143],\n",
       "         [-0.4165,  0.6821,  0.3456,  0.8298,  0.1115],\n",
       "         [ 0.7658,  0.2313,  0.0840, -0.2410,  0.8222],\n",
       "         [-0.9974, -0.0559, -0.4851,  0.5556,  0.2587],\n",
       "         [ 1.1165, -0.2593, -1.2132,  1.5660,  0.6813]],\n",
       "\n",
       "        [[-0.2263, -0.2181, -0.0118, -1.3083,  0.2971],\n",
       "         [-2.2272,  0.1925, -0.5762, -1.2995, -0.1873],\n",
       "         [ 0.2851,  1.2156,  0.5902, -0.4343,  0.6023],\n",
       "         [ 0.5447, -0.2816,  1.2718, -0.8622,  0.7800],\n",
       "         [-1.5963,  0.4700,  0.4827, -0.9756,  0.5240]]])"
      ]
     },
     "execution_count": 79,
     "metadata": {},
     "output_type": "execute_result"
    }
   ],
   "source": [
    "batch_gray_weighted = batch_weights.sum(-3)\n",
    "batch_gray_weighted"
   ]
  },
  {
   "cell_type": "code",
   "execution_count": 109,
   "id": "791c9687",
   "metadata": {},
   "outputs": [
    {
     "data": {
      "text/plain": [
       "(torch.Size([2, 3, 5, 5]), torch.Size([2, 3, 5, 5]), torch.Size([3, 1, 1]))"
      ]
     },
     "execution_count": 109,
     "metadata": {},
     "output_type": "execute_result"
    }
   ],
   "source": [
    "batch_weights.shape, batch_t.shape, unsqueezed_weights.shape"
   ]
  },
  {
   "cell_type": "code",
   "execution_count": 111,
   "id": "9e1bd5e4",
   "metadata": {},
   "outputs": [
    {
     "data": {
      "text/plain": [
       "tensor([[-0.2833,  0.8118,  0.4594, -0.2989,  0.0789],\n",
       "        [ 0.0176,  1.3626, -0.7323, -0.6946,  0.0069],\n",
       "        [-1.4432, -1.2653,  0.8344,  0.8159,  0.1131],\n",
       "        [-0.2711, -0.0757,  0.6061,  0.2566,  0.0744],\n",
       "        [-0.2484, -0.3024, -0.2948, -0.4448,  0.2806]])"
      ]
     },
     "execution_count": 111,
     "metadata": {},
     "output_type": "execute_result"
    }
   ],
   "source": [
    "img_gray_weighted_fancy = torch.einsum('...chw,c->...hw', img_t, weights)\n",
    "img_gray_weighted_fancy"
   ]
  },
  {
   "cell_type": "code",
   "execution_count": 112,
   "id": "930de80d",
   "metadata": {},
   "outputs": [
    {
     "data": {
      "text/plain": [
       "tensor([[[-0.8666, -0.5906,  0.8630,  0.0376,  0.9143],\n",
       "         [-0.4165,  0.6821,  0.3456,  0.8298,  0.1115],\n",
       "         [ 0.7658,  0.2313,  0.0840, -0.2410,  0.8222],\n",
       "         [-0.9974, -0.0559, -0.4851,  0.5556,  0.2587],\n",
       "         [ 1.1165, -0.2593, -1.2132,  1.5660,  0.6813]],\n",
       "\n",
       "        [[-0.2263, -0.2181, -0.0118, -1.3083,  0.2971],\n",
       "         [-2.2272,  0.1925, -0.5762, -1.2995, -0.1873],\n",
       "         [ 0.2851,  1.2156,  0.5902, -0.4343,  0.6023],\n",
       "         [ 0.5447, -0.2816,  1.2718, -0.8622,  0.7800],\n",
       "         [-1.5963,  0.4700,  0.4827, -0.9756,  0.5240]]])"
      ]
     },
     "execution_count": 112,
     "metadata": {},
     "output_type": "execute_result"
    }
   ],
   "source": [
    "batch_gray_weighted_fancy = torch.einsum('...chw,c->...hw', batch_t, weights)\n",
    "batch_gray_weighted_fancy"
   ]
  },
  {
   "cell_type": "code",
   "execution_count": 113,
   "id": "62f90515",
   "metadata": {},
   "outputs": [
    {
     "name": "stderr",
     "output_type": "stream",
     "text": [
      "<ipython-input-113-1cb66e664e02>:1: UserWarning: Named tensors and all their associated APIs are an experimental feature and subject to change. Please do not use them for anything important until they are released as stable. (Triggered internally at  ..\\c10/core/TensorImpl.h:1156.)\n",
      "  weights_named = torch.tensor([.2126, .7152, .0722], names=['channels'])\n"
     ]
    },
    {
     "data": {
      "text/plain": [
       "tensor([0.2126, 0.7152, 0.0722], names=('channels',))"
      ]
     },
     "execution_count": 113,
     "metadata": {},
     "output_type": "execute_result"
    }
   ],
   "source": [
    "weights_named = torch.tensor([.2126, .7152, .0722], names=['channels'])\n",
    "weights_named"
   ]
  },
  {
   "cell_type": "code",
   "execution_count": 119,
   "id": "a964863b",
   "metadata": {},
   "outputs": [
    {
     "data": {
      "text/plain": [
       "tensor([[[-0.5346, -0.7613,  0.7779, -1.4300, -0.9307],\n",
       "         [-1.2261,  1.5960,  0.6441, -1.2763, -0.1124],\n",
       "         [-0.6230, -0.6284, -0.8696, -2.3454, -1.2815],\n",
       "         [-2.0183,  1.0363, -0.2085,  0.3285, -0.6981],\n",
       "         [ 0.4841, -1.9304,  0.2526, -1.5363,  1.5732]],\n",
       "\n",
       "        [[-0.2930,  1.2138,  0.4327,  0.1698,  0.1784],\n",
       "         [ 0.4695,  1.5551, -1.2823, -0.6927, -0.0596],\n",
       "         [-1.7574, -1.6159,  1.4351,  1.8992,  0.4771],\n",
       "         [ 0.1582, -0.4635,  0.8181,  0.2119,  0.3516],\n",
       "         [-0.5867,  0.1783, -0.5121, -0.1189,  0.0657]],\n",
       "\n",
       "        [[ 0.5527,  1.4617, -0.2140, -1.6112,  2.0653],\n",
       "         [-0.7964, -1.2322,  0.6630,  0.9990,  1.0171],\n",
       "         [-0.7456,  0.3325, -0.0992, -0.6060,  0.6136],\n",
       "         [ 0.6206,  0.4908,  0.9038,  0.4879, -0.3969],\n",
       "         [ 0.9457, -0.2703,  0.2455, -0.4590, -1.3970]]],\n",
       "       names=('channels', 'rows', 'columns'))"
      ]
     },
     "execution_count": 119,
     "metadata": {},
     "output_type": "execute_result"
    }
   ],
   "source": [
    "img_named = img_t.refine_names(..., 'channels', 'rows', 'columns')\n",
    "img_named"
   ]
  },
  {
   "cell_type": "code",
   "execution_count": 120,
   "id": "922753d5",
   "metadata": {},
   "outputs": [
    {
     "data": {
      "text/plain": [
       "tensor([[[[-0.3931,  0.1803, -0.0423,  0.3829,  0.4416],\n",
       "          [-0.0640,  1.5556, -0.0960, -0.3524, -0.1562],\n",
       "          [ 1.6656, -1.5949,  1.2019,  0.2228, -1.0473],\n",
       "          [-2.5424, -1.6926, -1.2644, -0.5309, -0.7390],\n",
       "          [-0.1124,  0.3057,  0.6728, -0.9761,  1.4017]],\n",
       "\n",
       "         [[-1.2305, -0.8023,  1.3008,  0.0546,  1.1058],\n",
       "          [-0.6091,  0.5191,  0.3622,  1.1423,  0.1580],\n",
       "          [ 0.6545,  0.9755, -0.1896, -0.4290,  1.5417],\n",
       "          [-0.4910,  0.3291, -0.3541,  0.7433,  0.7658],\n",
       "          [ 1.5660, -0.4388, -1.8571,  2.3964,  0.5759]],\n",
       "\n",
       "         [[ 1.3430, -0.7632, -0.8078, -1.1484,  0.4083],\n",
       "          [ 0.4539, -0.2756,  1.4815,  1.2153,  0.4402],\n",
       "          [-0.7809, -1.7636, -0.4980,  0.2553, -0.8003],\n",
       "          [-1.4649,  0.9499,  0.5115,  1.8958, -1.8266],\n",
       "          [ 0.2827, -0.1447, -0.3887,  0.8262, -0.3963]]],\n",
       "\n",
       "\n",
       "        [[[-0.4921,  1.3545,  1.6018, -0.8820,  0.4370],\n",
       "          [-0.2096,  0.6384,  0.2816, -0.6146, -1.3000],\n",
       "          [-0.2500,  0.8358, -0.1121,  1.9445, -0.0237],\n",
       "          [ 1.8914,  0.0274,  2.2450,  0.7471, -1.6701],\n",
       "          [-0.2909,  2.2083, -0.5313, -0.6965,  1.6350]],\n",
       "\n",
       "         [[-0.2020, -0.9424, -0.4095, -1.5693,  0.2068],\n",
       "          [-2.8852,  0.0740, -0.9527, -1.6877,  0.1478],\n",
       "          [ 0.4105,  1.2232,  0.7931, -1.1833,  1.0460],\n",
       "          [ 0.0808, -0.4293,  1.2460, -1.3305,  1.6884],\n",
       "          [-2.1516,  0.1035,  0.8417, -1.2048,  0.3702]],\n",
       "\n",
       "         [[ 0.3157,  2.3267, -0.8233,  0.0213,  0.7794],\n",
       "          [-1.6510,  0.0539,  0.6271,  0.5293, -0.2309],\n",
       "          [ 0.6176,  2.2595,  0.6479, -0.0189, -1.9499],\n",
       "          [ 1.1741,  0.2716, -1.3388, -0.9629, -1.0042],\n",
       "          [ 0.0604, -1.0181, -0.0876,  0.4724, -1.2238]]]],\n",
       "       names=(None, 'channels', 'rows', 'columns'))"
      ]
     },
     "execution_count": 120,
     "metadata": {},
     "output_type": "execute_result"
    }
   ],
   "source": [
    "batch_named = batch_t.refine_names(..., 'channels', 'rows', 'columns')\n",
    "batch_named"
   ]
  },
  {
   "cell_type": "code",
   "execution_count": 121,
   "id": "23c3981b",
   "metadata": {},
   "outputs": [
    {
     "name": "stdout",
     "output_type": "stream",
     "text": [
      "img named: torch.Size([3, 5, 5]) ('channels', 'rows', 'columns')\n",
      "batch named: torch.Size([2, 3, 5, 5]) (None, 'channels', 'rows', 'columns')\n"
     ]
    }
   ],
   "source": [
    "print(\"img named:\", img_named.shape, img_named.names)\n",
    "print(\"batch named:\", batch_named.shape, batch_named.names)"
   ]
  },
  {
   "cell_type": "code",
   "execution_count": 122,
   "id": "f3a37d63",
   "metadata": {},
   "outputs": [
    {
     "data": {
      "text/plain": [
       "(torch.Size([3, 1, 1]), ('channels', 'rows', 'columns'))"
      ]
     },
     "execution_count": 122,
     "metadata": {},
     "output_type": "execute_result"
    }
   ],
   "source": [
    "weights_aligned = weights_named.align_as(img_named)\n",
    "weights_aligned.shape, weights_aligned.names"
   ]
  },
  {
   "cell_type": "code",
   "execution_count": 143,
   "id": "aff4e89e",
   "metadata": {},
   "outputs": [],
   "source": [
    "gray_named = (img_named * weights_aligned).sum('channels')"
   ]
  },
  {
   "cell_type": "code",
   "execution_count": 152,
   "id": "9199a405",
   "metadata": {},
   "outputs": [
    {
     "data": {
      "text/plain": [
       "(torch.Size([5, 5]), ('rows', 'columns'))"
      ]
     },
     "execution_count": 152,
     "metadata": {},
     "output_type": "execute_result"
    }
   ],
   "source": [
    "gray_named.shape, gray_named.names"
   ]
  },
  {
   "cell_type": "code",
   "execution_count": 151,
   "id": "e16269b1",
   "metadata": {},
   "outputs": [
    {
     "data": {
      "text/plain": [
       "tensor([[-0.2833,  0.8118,  0.4594, -0.2989,  0.0789],\n",
       "        [ 0.0176,  1.3626, -0.7323, -0.6946,  0.0069],\n",
       "        [-1.4432, -1.2653,  0.8344,  0.8159,  0.1131],\n",
       "        [-0.2711, -0.0757,  0.6061,  0.2566,  0.0744],\n",
       "        [-0.2484, -0.3024, -0.2948, -0.4448,  0.2806]],\n",
       "       names=('rows', 'columns'))"
      ]
     },
     "execution_count": 151,
     "metadata": {},
     "output_type": "execute_result"
    }
   ],
   "source": [
    "(img_named * weights_aligned).sum('channels')"
   ]
  },
  {
   "cell_type": "code",
   "execution_count": 167,
   "id": "17588b66",
   "metadata": {},
   "outputs": [
    {
     "ename": "RuntimeError",
     "evalue": "Error when attempting to broadcast dims ['channels', 'rows', 'columns'] and dims ['channels']: dim 'columns' and dim 'channels' are at the same position from the right but do not match.",
     "output_type": "error",
     "traceback": [
      "\u001b[1;31m---------------------------------------------------------------------------\u001b[0m",
      "\u001b[1;31mRuntimeError\u001b[0m                              Traceback (most recent call last)",
      "\u001b[1;32m<ipython-input-167-18a26a88b534>\u001b[0m in \u001b[0;36m<module>\u001b[1;34m\u001b[0m\n\u001b[1;32m----> 1\u001b[1;33m \u001b[0mgray_named\u001b[0m \u001b[1;33m=\u001b[0m \u001b[1;33m(\u001b[0m\u001b[0mimg_named\u001b[0m\u001b[1;33m[\u001b[0m\u001b[1;33m...\u001b[0m\u001b[1;33m,\u001b[0m \u001b[1;33m:\u001b[0m\u001b[1;36m3\u001b[0m\u001b[1;33m]\u001b[0m \u001b[1;33m*\u001b[0m \u001b[0mweights_named\u001b[0m\u001b[1;33m)\u001b[0m\u001b[1;33m\u001b[0m\u001b[1;33m\u001b[0m\u001b[0m\n\u001b[0m",
      "\u001b[1;31mRuntimeError\u001b[0m: Error when attempting to broadcast dims ['channels', 'rows', 'columns'] and dims ['channels']: dim 'columns' and dim 'channels' are at the same position from the right but do not match."
     ]
    }
   ],
   "source": [
    "gray_named = (img_named[..., :3] * weights_named)"
   ]
  },
  {
   "cell_type": "code",
   "execution_count": 168,
   "id": "bcd40f18",
   "metadata": {},
   "outputs": [
    {
     "data": {
      "text/plain": [
       "(torch.Size([5, 5]), (None, None))"
      ]
     },
     "execution_count": 168,
     "metadata": {},
     "output_type": "execute_result"
    }
   ],
   "source": [
    "gray_plain = gray_named.rename(None)\n",
    "gray_plain.shape, gray_plain.names"
   ]
  },
  {
   "cell_type": "code",
   "execution_count": 187,
   "id": "35d993bb",
   "metadata": {},
   "outputs": [
    {
     "data": {
      "text/plain": [
       "tensor([66,  2,  3], dtype=torch.uint8)"
      ]
     },
     "execution_count": 187,
     "metadata": {},
     "output_type": "execute_result"
    }
   ],
   "source": [
    "torch.tensor([1602, 2 , 3], dtype=torch.uint8)"
   ]
  },
  {
   "cell_type": "code",
   "execution_count": 188,
   "id": "6bf6091f",
   "metadata": {},
   "outputs": [],
   "source": [
    "double_points = torch.ones(10, 2, dtype=torch.double)\n",
    "short_points = torch.tensor([[1, 2], [3, 4]], dtype=torch.short)"
   ]
  },
  {
   "cell_type": "code",
   "execution_count": 189,
   "id": "0bd0c81e",
   "metadata": {},
   "outputs": [
    {
     "data": {
      "text/plain": [
       "torch.int16"
      ]
     },
     "execution_count": 189,
     "metadata": {},
     "output_type": "execute_result"
    }
   ],
   "source": [
    "short_points.dtype"
   ]
  },
  {
   "cell_type": "code",
   "execution_count": 190,
   "id": "132188b0",
   "metadata": {},
   "outputs": [
    {
     "data": {
      "text/plain": [
       "torch.float64"
      ]
     },
     "execution_count": 190,
     "metadata": {},
     "output_type": "execute_result"
    }
   ],
   "source": [
    "double_points.dtype"
   ]
  },
  {
   "cell_type": "code",
   "execution_count": 191,
   "id": "cbbf64f7",
   "metadata": {},
   "outputs": [
    {
     "data": {
      "text/plain": [
       "torch.float64"
      ]
     },
     "execution_count": 191,
     "metadata": {},
     "output_type": "execute_result"
    }
   ],
   "source": [
    "double_points = torch.zeros(10, 2).double()\n",
    "short_points = torch.zeros(10, 2).short()\n",
    "double_points.dtype"
   ]
  },
  {
   "cell_type": "code",
   "execution_count": 217,
   "id": "20ea6f72",
   "metadata": {},
   "outputs": [
    {
     "data": {
      "text/plain": [
       "torch.int16"
      ]
     },
     "execution_count": 217,
     "metadata": {},
     "output_type": "execute_result"
    }
   ],
   "source": [
    "double_points = torch.zeros(10, 2).to(torch.double)\n",
    "short_points = torch.zeros(10, 2).to(torch.short)\n",
    "short_points.dtype"
   ]
  },
  {
   "cell_type": "code",
   "execution_count": 220,
   "id": "3e27d79a",
   "metadata": {},
   "outputs": [
    {
     "data": {
      "text/plain": [
       "tensor([ 0.7669, -0.1415,  0.2132,  0.1839, -0.7365, -0.3050, -0.7808, -1.2072,\n",
       "        -1.2469,  0.4169])"
      ]
     },
     "execution_count": 220,
     "metadata": {},
     "output_type": "execute_result"
    }
   ],
   "source": [
    "torch.randn(10)"
   ]
  },
  {
   "cell_type": "code",
   "execution_count": 221,
   "id": "a1b851a6",
   "metadata": {},
   "outputs": [
    {
     "data": {
      "text/plain": [
       "tensor([0., 0., 0., 0., 0.], dtype=torch.float64)"
      ]
     },
     "execution_count": 221,
     "metadata": {},
     "output_type": "execute_result"
    }
   ],
   "source": [
    "points_64 = torch.rand(5, dtype=torch.double)\n",
    "points_short = points_64.to(torch.short)\n",
    "points_64 * points_short"
   ]
  },
  {
   "cell_type": "code",
   "execution_count": 242,
   "id": "f3d1a155",
   "metadata": {},
   "outputs": [],
   "source": [
    "a = torch.ones(3, 2)\n",
    "a_t = torch.transpose(a, 1, 0)"
   ]
  },
  {
   "cell_type": "code",
   "execution_count": 243,
   "id": "980475e3",
   "metadata": {},
   "outputs": [
    {
     "data": {
      "text/plain": [
       "(torch.Size([3, 2]), torch.Size([2, 3]))"
      ]
     },
     "execution_count": 243,
     "metadata": {},
     "output_type": "execute_result"
    }
   ],
   "source": [
    "a.shape, a_t.shape"
   ]
  },
  {
   "cell_type": "code",
   "execution_count": null,
   "id": "b083643a",
   "metadata": {},
   "outputs": [],
   "source": []
  }
 ],
 "metadata": {
  "kernelspec": {
   "display_name": "Python 3",
   "language": "python",
   "name": "python3"
  },
  "language_info": {
   "codemirror_mode": {
    "name": "ipython",
    "version": 3
   },
   "file_extension": ".py",
   "mimetype": "text/x-python",
   "name": "python",
   "nbconvert_exporter": "python",
   "pygments_lexer": "ipython3",
   "version": "3.8.8"
  }
 },
 "nbformat": 4,
 "nbformat_minor": 5
}

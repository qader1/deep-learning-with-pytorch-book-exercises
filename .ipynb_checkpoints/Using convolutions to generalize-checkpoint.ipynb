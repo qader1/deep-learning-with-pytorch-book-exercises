{
 "cells": [
  {
   "cell_type": "code",
   "execution_count": 1,
   "id": "9945ed1f",
   "metadata": {},
   "outputs": [],
   "source": [
    "import torch.nn as nn\n",
    "import torch\n",
    "from matplotlib import pyplot as plt"
   ]
  },
  {
   "cell_type": "code",
   "execution_count": 2,
   "id": "45b2ac64",
   "metadata": {},
   "outputs": [
    {
     "data": {
      "text/plain": [
       "Parameter containing:\n",
       "tensor([[[[ 4.0776e-02,  3.3614e-02, -1.2033e-01],\n",
       "          [ 1.3226e-01,  2.5046e-02, -4.4180e-02],\n",
       "          [ 9.5156e-02, -1.9826e-02, -3.0807e-02]],\n",
       "\n",
       "         [[-5.1734e-02,  1.8299e-01, -9.3038e-02],\n",
       "          [ 1.7415e-01, -5.0983e-03,  1.6456e-01],\n",
       "          [-1.1103e-01, -4.6376e-02, -1.4576e-01]],\n",
       "\n",
       "         [[ 8.8002e-02, -8.8180e-02, -1.8366e-02],\n",
       "          [ 1.6338e-01,  2.3020e-02, -1.7346e-01],\n",
       "          [-1.4869e-01, -4.4462e-02, -5.9463e-02]]],\n",
       "\n",
       "\n",
       "        [[[ 3.6295e-03,  2.2523e-02,  1.0515e-01],\n",
       "          [-9.7945e-02,  1.3205e-01, -1.3725e-01],\n",
       "          [ 1.3144e-01, -1.6084e-01,  8.4507e-02]],\n",
       "\n",
       "         [[ 2.3237e-02,  1.5860e-03, -6.7503e-02],\n",
       "          [-2.4812e-02,  1.7197e-01,  2.8194e-02],\n",
       "          [ 2.5601e-02, -1.6671e-01,  6.0952e-02]],\n",
       "\n",
       "         [[-2.4837e-02, -1.4410e-01,  1.0171e-01],\n",
       "          [-9.1053e-02,  1.4184e-01, -1.4704e-01],\n",
       "          [-1.3875e-01, -1.6395e-01, -1.2423e-02]]],\n",
       "\n",
       "\n",
       "        [[[ 1.4171e-01,  1.6653e-01, -8.4429e-02],\n",
       "          [ 1.8764e-01,  3.7964e-02, -7.1558e-02],\n",
       "          [ 1.5991e-01,  4.0102e-02,  1.9209e-01]],\n",
       "\n",
       "         [[ 1.3016e-01, -1.1793e-01, -5.8797e-02],\n",
       "          [ 8.8309e-02,  1.0513e-01,  1.4710e-01],\n",
       "          [-6.9123e-02, -1.1773e-01,  7.6534e-02]],\n",
       "\n",
       "         [[ 1.7879e-01, -1.2576e-01,  1.8228e-01],\n",
       "          [-9.9711e-02, -1.0698e-01,  6.4362e-02],\n",
       "          [ 9.2192e-02, -1.2330e-01,  1.9057e-01]]],\n",
       "\n",
       "\n",
       "        [[[-1.8842e-01,  1.4733e-01,  1.7951e-04],\n",
       "          [-9.9901e-02, -2.4828e-02,  1.4335e-01],\n",
       "          [ 6.7153e-02, -3.1205e-02, -1.9133e-01]],\n",
       "\n",
       "         [[ 7.0566e-02, -2.7275e-03,  1.5382e-01],\n",
       "          [-1.2369e-01, -4.0420e-02, -1.7727e-01],\n",
       "          [-7.3428e-03, -1.5518e-01,  1.7509e-01]],\n",
       "\n",
       "         [[ 1.7385e-01, -1.1962e-01,  3.9795e-02],\n",
       "          [-9.1579e-02,  7.6001e-02, -1.7751e-01],\n",
       "          [ 1.4978e-01, -6.1027e-02, -1.7075e-01]]],\n",
       "\n",
       "\n",
       "        [[[ 1.7478e-02, -1.6112e-01,  1.0554e-01],\n",
       "          [ 5.8764e-02, -1.4084e-01, -1.1897e-01],\n",
       "          [ 4.7513e-02, -1.8015e-01, -1.7587e-01]],\n",
       "\n",
       "         [[ 7.2648e-02, -6.8262e-02,  6.1028e-02],\n",
       "          [ 1.7593e-01, -3.3832e-02, -1.6569e-02],\n",
       "          [ 1.1767e-01, -1.6578e-01,  5.4568e-02]],\n",
       "\n",
       "         [[ 1.2356e-02, -3.4610e-02, -1.8703e-01],\n",
       "          [-2.6857e-02,  1.2991e-01, -8.7620e-02],\n",
       "          [ 1.6837e-01,  1.6157e-01, -1.4193e-01]]],\n",
       "\n",
       "\n",
       "        [[[-1.7527e-02, -1.3503e-01, -1.0477e-01],\n",
       "          [-1.6126e-01,  1.9222e-02,  4.3291e-02],\n",
       "          [-1.0939e-01,  7.0541e-02,  3.3491e-02]],\n",
       "\n",
       "         [[-1.1606e-01, -1.3051e-01,  3.2311e-02],\n",
       "          [ 1.1607e-01,  2.7469e-02,  1.7279e-01],\n",
       "          [ 1.7778e-01, -1.6292e-01,  3.6797e-03]],\n",
       "\n",
       "         [[-1.6947e-01, -4.9039e-02,  1.1563e-01],\n",
       "          [ 5.9511e-02, -5.8931e-02,  1.0537e-01],\n",
       "          [ 8.1050e-03, -1.1658e-02,  6.2061e-02]]],\n",
       "\n",
       "\n",
       "        [[[-1.1610e-01, -1.0605e-01,  1.5700e-01],\n",
       "          [ 3.9087e-02,  6.9388e-02,  1.9167e-01],\n",
       "          [ 8.4627e-02,  4.7438e-02, -9.9376e-02]],\n",
       "\n",
       "         [[ 1.8538e-01,  1.9147e-01,  1.3500e-01],\n",
       "          [ 1.0138e-01,  1.5427e-01,  1.8315e-01],\n",
       "          [ 1.3224e-01,  5.0385e-02, -9.2397e-02]],\n",
       "\n",
       "         [[-6.7292e-02,  1.6843e-01, -1.8094e-01],\n",
       "          [ 1.4800e-01,  1.1844e-01, -1.5389e-01],\n",
       "          [-1.1520e-01, -3.5658e-02, -2.4332e-02]]],\n",
       "\n",
       "\n",
       "        [[[-8.8089e-02, -1.0215e-01, -7.5579e-02],\n",
       "          [-6.3388e-02, -1.7576e-02, -1.2884e-01],\n",
       "          [-1.6419e-01,  1.1841e-01,  1.0744e-02]],\n",
       "\n",
       "         [[-6.4964e-02, -1.0826e-01, -3.6260e-02],\n",
       "          [ 5.7947e-02, -1.5893e-01, -4.4782e-02],\n",
       "          [ 2.7596e-02, -8.9238e-03, -1.1138e-01]],\n",
       "\n",
       "         [[-1.2011e-01,  1.2389e-01, -1.8198e-01],\n",
       "          [ 5.7148e-02,  6.1183e-02, -1.9132e-01],\n",
       "          [ 1.1732e-02, -4.1895e-02,  1.6256e-01]]],\n",
       "\n",
       "\n",
       "        [[[-9.7866e-02, -8.2198e-02, -1.0424e-01],\n",
       "          [-1.1590e-01, -5.8851e-02,  1.2081e-01],\n",
       "          [-1.0042e-01,  4.2022e-02, -3.5575e-03]],\n",
       "\n",
       "         [[ 1.2008e-01, -5.2569e-02,  1.7194e-01],\n",
       "          [-7.8604e-02,  9.7595e-02, -1.5033e-01],\n",
       "          [ 1.4775e-01, -1.7602e-01,  3.4274e-02]],\n",
       "\n",
       "         [[-5.4503e-02, -1.7111e-01, -3.6168e-02],\n",
       "          [ 1.1690e-01,  1.3540e-02,  1.5903e-01],\n",
       "          [ 1.6403e-01, -1.5388e-01, -4.7119e-02]]],\n",
       "\n",
       "\n",
       "        [[[-2.9071e-02, -7.8771e-02,  8.8628e-02],\n",
       "          [ 6.6631e-02, -4.5416e-02,  1.6267e-01],\n",
       "          [-1.0441e-01,  1.4021e-01,  1.2420e-01]],\n",
       "\n",
       "         [[-1.6462e-01,  9.8136e-02, -4.4628e-02],\n",
       "          [-1.7344e-01,  7.9656e-02,  1.0892e-01],\n",
       "          [ 1.0979e-01, -1.1661e-01, -5.6834e-03]],\n",
       "\n",
       "         [[-1.3906e-01, -2.5214e-02,  6.4423e-02],\n",
       "          [ 9.3959e-02, -2.8514e-02,  7.1779e-02],\n",
       "          [ 3.9835e-02,  1.0778e-01,  1.6025e-02]]],\n",
       "\n",
       "\n",
       "        [[[-1.2880e-01, -2.7054e-02,  3.9606e-02],\n",
       "          [ 9.7292e-02, -1.5029e-01,  1.5833e-01],\n",
       "          [-6.9462e-02, -2.0684e-04,  1.5486e-01]],\n",
       "\n",
       "         [[-1.5339e-01,  3.4883e-03, -9.3240e-02],\n",
       "          [ 1.2313e-01,  7.1199e-02,  1.1337e-01],\n",
       "          [-4.4358e-02, -1.8440e-01, -5.0831e-02]],\n",
       "\n",
       "         [[-3.4627e-03, -2.0799e-02,  8.8878e-02],\n",
       "          [-1.5853e-01, -8.7508e-02,  7.9855e-03],\n",
       "          [ 4.2079e-02,  7.1856e-02,  4.2025e-02]]],\n",
       "\n",
       "\n",
       "        [[[ 1.6188e-02,  1.0091e-01, -5.5890e-02],\n",
       "          [ 1.1232e-01,  8.4338e-02, -3.6500e-02],\n",
       "          [-5.4259e-02, -4.0106e-02, -2.1416e-02]],\n",
       "\n",
       "         [[-1.2684e-01, -1.0041e-01,  1.7955e-01],\n",
       "          [ 1.1288e-01,  9.5144e-02,  7.8249e-02],\n",
       "          [ 9.0793e-02,  1.9127e-01,  7.0165e-02]],\n",
       "\n",
       "         [[-2.1398e-02,  1.7629e-01, -1.0253e-01],\n",
       "          [ 1.6650e-02, -1.8362e-01, -7.6492e-02],\n",
       "          [ 1.6398e-01,  9.1605e-02, -1.9209e-01]]],\n",
       "\n",
       "\n",
       "        [[[-1.1688e-01, -8.3806e-02,  4.7300e-02],\n",
       "          [ 1.8765e-02,  1.1212e-02, -1.0112e-01],\n",
       "          [ 5.0095e-02, -1.5123e-01,  1.6924e-02]],\n",
       "\n",
       "         [[ 1.2748e-01,  4.6414e-02, -1.6641e-01],\n",
       "          [-1.4669e-01,  6.5191e-02,  2.1627e-03],\n",
       "          [ 7.0036e-02, -3.6624e-02, -1.1926e-02]],\n",
       "\n",
       "         [[ 1.5267e-01,  1.2706e-01,  1.1018e-01],\n",
       "          [-1.0483e-01, -1.7386e-01,  1.0104e-01],\n",
       "          [-4.2348e-02,  1.1525e-01, -1.5694e-02]]],\n",
       "\n",
       "\n",
       "        [[[ 4.0495e-02, -3.5396e-03,  9.5928e-02],\n",
       "          [ 6.4309e-02,  5.5483e-02, -2.0516e-02],\n",
       "          [-2.1286e-02,  8.4206e-02, -1.3810e-01]],\n",
       "\n",
       "         [[-1.0053e-01,  1.7462e-01, -8.2333e-02],\n",
       "          [-1.6061e-01,  3.0826e-02,  1.9651e-02],\n",
       "          [ 1.4489e-01,  1.2717e-01, -4.6019e-02]],\n",
       "\n",
       "         [[ 4.0564e-02, -7.8502e-02,  1.7823e-01],\n",
       "          [-4.6377e-02,  4.9898e-02,  7.7457e-02],\n",
       "          [ 7.7049e-02, -1.9070e-01,  1.6510e-01]]],\n",
       "\n",
       "\n",
       "        [[[ 1.3656e-01,  1.1942e-01, -1.3435e-01],\n",
       "          [ 1.4944e-01,  1.7939e-01,  9.0657e-02],\n",
       "          [-1.7258e-01,  1.6756e-01,  4.8988e-03]],\n",
       "\n",
       "         [[ 1.0826e-01,  1.8481e-01,  1.7074e-01],\n",
       "          [-6.8573e-02, -9.5268e-03,  9.8470e-02],\n",
       "          [ 1.5097e-01,  1.5736e-01, -1.9080e-01]],\n",
       "\n",
       "         [[ 1.7686e-01,  1.2813e-01,  1.4457e-01],\n",
       "          [-1.6870e-01,  1.6954e-01,  6.4929e-02],\n",
       "          [-2.0170e-02,  7.8829e-02, -3.4604e-02]]],\n",
       "\n",
       "\n",
       "        [[[ 2.1700e-02,  4.2540e-02,  5.6871e-02],\n",
       "          [ 1.1676e-01,  1.6058e-01, -2.8541e-03],\n",
       "          [ 9.6314e-02, -9.5467e-02, -6.2287e-02]],\n",
       "\n",
       "         [[-6.0621e-02,  1.8100e-02, -1.6737e-01],\n",
       "          [ 1.7558e-01,  1.7060e-01, -1.8849e-01],\n",
       "          [-1.0417e-01, -1.1420e-01, -7.7536e-02]],\n",
       "\n",
       "         [[-1.8261e-01,  1.0973e-01, -1.3892e-01],\n",
       "          [ 1.7846e-01,  8.9005e-02,  1.5134e-01],\n",
       "          [ 1.7190e-03,  1.2152e-01,  1.2270e-02]]]], requires_grad=True)"
      ]
     },
     "execution_count": 2,
     "metadata": {},
     "output_type": "execute_result"
    }
   ],
   "source": [
    "conv = nn.Conv2d(3, 16, kernel_size=3)\n",
    "conv.weight"
   ]
  },
  {
   "cell_type": "code",
   "execution_count": 3,
   "id": "219b820e",
   "metadata": {},
   "outputs": [
    {
     "data": {
      "text/plain": [
       "(torch.Size([16, 3, 3, 3]), torch.Size([16]))"
      ]
     },
     "execution_count": 3,
     "metadata": {},
     "output_type": "execute_result"
    }
   ],
   "source": [
    "conv.weight.shape, conv.bias.shape"
   ]
  },
  {
   "cell_type": "code",
   "execution_count": 4,
   "id": "26460b84",
   "metadata": {},
   "outputs": [],
   "source": [
    "from torchvision.datasets import CIFAR10\n",
    "from torchvision import transforms"
   ]
  },
  {
   "cell_type": "code",
   "execution_count": 5,
   "id": "c60a2918",
   "metadata": {},
   "outputs": [],
   "source": [
    "data_path = '../data-unversioned/p1ch7'\n",
    "normalize = transforms.Normalize((.4915, .4823, .4468), (.2470, .2435, .2616))\n",
    "transform = transforms.Compose([\n",
    "    transforms.ToTensor(),\n",
    "    normalize\n",
    "])\n",
    "\n",
    "\n",
    "cifar10 = CIFAR10(data_path, train=True, download=False, transform=transform)\n",
    "cifar10_val = CIFAR10(data_path, train=False, download=False, transform=transform)"
   ]
  },
  {
   "cell_type": "code",
   "execution_count": 6,
   "id": "f10d7603",
   "metadata": {},
   "outputs": [],
   "source": [
    "label_map = {0: 0, 2: 1}\n",
    "cifar2 = [(img, label_map[i]) for img, i in cifar10 if i in [0, 2]]\n",
    "cifar2_v = [(img, label_map[i]) for img, i in cifar10_val if i in [0, 2]]"
   ]
  },
  {
   "cell_type": "code",
   "execution_count": 7,
   "id": "9784bc69",
   "metadata": {},
   "outputs": [
    {
     "data": {
      "text/plain": [
       "10000"
      ]
     },
     "execution_count": 7,
     "metadata": {},
     "output_type": "execute_result"
    }
   ],
   "source": [
    "len(cifar2)"
   ]
  },
  {
   "cell_type": "code",
   "execution_count": 8,
   "id": "6c1fca44",
   "metadata": {},
   "outputs": [],
   "source": [
    "del cifar10, cifar10_val"
   ]
  },
  {
   "cell_type": "code",
   "execution_count": 9,
   "id": "f71626d8",
   "metadata": {},
   "outputs": [
    {
     "name": "stderr",
     "output_type": "stream",
     "text": [
      "Clipping input data to the valid range for imshow with RGB data ([0..1] for floats or [0..255] for integers).\n"
     ]
    },
    {
     "data": {
      "image/png": "[encoded data removed]",
      "text/plain": [
       "<Figure size 432x288 with 1 Axes>"
      ]
     },
     "metadata": {
      "needs_background": "light"
     },
     "output_type": "display_data"
    }
   ],
   "source": [
    "img, _ = cifar2[0]\n",
    "_ = plt.imshow(img.permute(1, 2, 0))\n"
   ]
  },
  {
   "cell_type": "code",
   "execution_count": 10,
   "id": "1b31fc4b",
   "metadata": {},
   "outputs": [
    {
     "data": {
      "text/plain": [
       "(torch.Size([1, 3, 32, 32]), torch.Size([1, 16, 30, 30]))"
      ]
     },
     "execution_count": 10,
     "metadata": {},
     "output_type": "execute_result"
    }
   ],
   "source": [
    "output = conv(img.unsqueeze(0))\n",
    "img.unsqueeze(0).shape, output.shape"
   ]
  },
  {
   "cell_type": "code",
   "execution_count": 11,
   "id": "20ea3b2c",
   "metadata": {},
   "outputs": [
    {
     "data": {
      "text/plain": [
       "<matplotlib.image.AxesImage at 0x2332722fca0>"
      ]
     },
     "execution_count": 11,
     "metadata": {},
     "output_type": "execute_result"
    },
    {
     "data": {
      "image/png": "[encoded data removed]",
      "text/plain": [
       "<Figure size 432x288 with 1 Axes>"
      ]
     },
     "metadata": {
      "needs_background": "light"
     },
     "output_type": "display_data"
    }
   ],
   "source": [
    "plt.imshow(output[0, 0].detach(), cmap='gray')"
   ]
  },
  {
   "cell_type": "code",
   "execution_count": 12,
   "id": "3da8a1b9",
   "metadata": {},
   "outputs": [
    {
     "data": {
      "text/plain": [
       "(torch.Size([1, 3, 32, 32]), torch.Size([1, 1, 32, 32]))"
      ]
     },
     "execution_count": 12,
     "metadata": {},
     "output_type": "execute_result"
    }
   ],
   "source": [
    "conv = nn.Conv2d(3, 1, kernel_size=3, padding=1)\n",
    "output = conv(img.unsqueeze(0))\n",
    "img.unsqueeze(0).shape, output.shape"
   ]
  },
  {
   "cell_type": "code",
   "execution_count": 13,
   "id": "c1bb7307",
   "metadata": {},
   "outputs": [],
   "source": [
    "with torch.no_grad():\n",
    "    conv.bias.zero_()\n",
    "    conv.weight.fill_(1.0 / 9.0)"
   ]
  },
  {
   "cell_type": "code",
   "execution_count": 14,
   "id": "24c0a719",
   "metadata": {},
   "outputs": [
    {
     "data": {
      "text/plain": [
       "<matplotlib.image.AxesImage at 0x2332729e1c0>"
      ]
     },
     "execution_count": 14,
     "metadata": {},
     "output_type": "execute_result"
    },
    {
     "data": {
      "image/png": "[encoded data removed]",
      "text/plain": [
       "<Figure size 432x288 with 1 Axes>"
      ]
     },
     "metadata": {
      "needs_background": "light"
     },
     "output_type": "display_data"
    }
   ],
   "source": [
    "output = conv(img.unsqueeze(0))\n",
    "plt.imshow(output[0, 0].detach())"
   ]
  },
  {
   "cell_type": "code",
   "execution_count": 15,
   "id": "1e6412a3",
   "metadata": {},
   "outputs": [
    {
     "data": {
      "text/plain": [
       "Parameter containing:\n",
       "tensor([[[[0.1111, 0.1111, 0.1111],\n",
       "          [0.1111, 0.1111, 0.1111],\n",
       "          [0.1111, 0.1111, 0.1111]],\n",
       "\n",
       "         [[0.1111, 0.1111, 0.1111],\n",
       "          [0.1111, 0.1111, 0.1111],\n",
       "          [0.1111, 0.1111, 0.1111]],\n",
       "\n",
       "         [[0.1111, 0.1111, 0.1111],\n",
       "          [0.1111, 0.1111, 0.1111],\n",
       "          [0.1111, 0.1111, 0.1111]]]], requires_grad=True)"
      ]
     },
     "execution_count": 15,
     "metadata": {},
     "output_type": "execute_result"
    }
   ],
   "source": [
    "conv.weight"
   ]
  },
  {
   "cell_type": "code",
   "execution_count": 16,
   "id": "17fbd966",
   "metadata": {},
   "outputs": [],
   "source": [
    "conv = nn.Conv2d(3, 1, kernel_size=(2, 16), padding=1)\n",
    "with torch.no_grad():\n",
    "    conv.weight[:] = torch.tensor([[-10, 10, 10, -10, -10, 10, 10, -10]*2,\n",
    "                                   [-10, 15, 15, -10, -10, 15, 15, -10]*2])\n",
    "    conv.bias.zero_()"
   ]
  },
  {
   "cell_type": "code",
   "execution_count": 17,
   "id": "f1aa8338",
   "metadata": {},
   "outputs": [
    {
     "data": {
      "text/plain": [
       "<matplotlib.image.AxesImage at 0x233272ff850>"
      ]
     },
     "execution_count": 17,
     "metadata": {},
     "output_type": "execute_result"
    },
    {
     "data": {
      "image/png": "[encoded data removed]",
      "text/plain": [
       "<Figure size 432x288 with 1 Axes>"
      ]
     },
     "metadata": {
      "needs_background": "light"
     },
     "output_type": "display_data"
    }
   ],
   "source": [
    "output = conv(img.unsqueeze(0))\n",
    "plt.imshow(output[0,0].detach(), cmap='gray')"
   ]
  },
  {
   "cell_type": "code",
   "execution_count": 18,
   "id": "491e23cb",
   "metadata": {},
   "outputs": [
    {
     "name": "stderr",
     "output_type": "stream",
     "text": [
      "Clipping input data to the valid range for imshow with RGB data ([0..1] for floats or [0..255] for integers).\n"
     ]
    },
    {
     "data": {
      "text/plain": [
       "<matplotlib.image.AxesImage at 0x2332735e760>"
      ]
     },
     "execution_count": 18,
     "metadata": {},
     "output_type": "execute_result"
    },
    {
     "data": {
      "image/png": "[encoded data removed]",
      "text/plain": [
       "<Figure size 432x288 with 1 Axes>"
      ]
     },
     "metadata": {
      "needs_background": "light"
     },
     "output_type": "display_data"
    }
   ],
   "source": [
    "plt.imshow(img.permute(1, 2, 0), cmap='gray')"
   ]
  },
  {
   "cell_type": "code",
   "execution_count": 19,
   "id": "51d188b1",
   "metadata": {},
   "outputs": [
    {
     "name": "stderr",
     "output_type": "stream",
     "text": [
      "C:\\Users\\AbdulrazzakAbd\\Anaconda3\\lib\\site-packages\\torch\\nn\\functional.py:718: UserWarning: Named tensors and all their associated APIs are an experimental feature and subject to change. Please do not use them for anything important until they are released as stable. (Triggered internally at  ..\\c10/core/TensorImpl.h:1156.)\n",
      "  return torch.max_pool2d(input, kernel_size, stride, padding, dilation, ceil_mode)\n"
     ]
    },
    {
     "data": {
      "text/plain": [
       "(torch.Size([1, 3, 32, 32]), torch.Size([1, 3, 16, 16]))"
      ]
     },
     "execution_count": 19,
     "metadata": {},
     "output_type": "execute_result"
    }
   ],
   "source": [
    "pool = nn.MaxPool2d(2)\n",
    "output = pool(img.unsqueeze(0))\n",
    "\n",
    "img.unsqueeze(0).shape, output.shape"
   ]
  },
  {
   "cell_type": "code",
   "execution_count": 20,
   "id": "5f2bef73",
   "metadata": {},
   "outputs": [],
   "source": [
    "model = nn.Sequential(\n",
    "    nn.Conv2d(3, 16, kernel_size=3, padding=1),\n",
    "    nn.Tanh(),\n",
    "    nn.MaxPool2d(2),\n",
    "    nn.Conv2d(16, 8, kernel_size=3, padding=1),\n",
    "    nn.MaxPool2d(2),\n",
    "    nn.Flatten(),\n",
    "    nn.Linear(8 * 8 * 8, 32),\n",
    "    nn.Tanh(),\n",
    "    nn.Linear(32, 2)\n",
    ")"
   ]
  },
  {
   "cell_type": "code",
   "execution_count": 21,
   "id": "01773fcf",
   "metadata": {},
   "outputs": [
    {
     "data": {
      "text/plain": [
       "18090"
      ]
     },
     "execution_count": 21,
     "metadata": {},
     "output_type": "execute_result"
    }
   ],
   "source": [
    "sum([p.numel() for p in model.parameters()])"
   ]
  },
  {
   "cell_type": "code",
   "execution_count": 22,
   "id": "af3ccfc7",
   "metadata": {},
   "outputs": [],
   "source": [
    "class Net(nn.Module):\n",
    "    def __init__(self):\n",
    "        super().__init__()\n",
    "        self.conv1 = nn.Conv2d(3, 16, kernel_size=3, padding=1)\n",
    "        self.act1 = nn.Tanh()\n",
    "        self.pool1 = nn.MaxPool2d(2)\n",
    "        self.conv2 = nn.Conv2d(16, 8, kernel_size=3, padding=1)\n",
    "        self.act2 = nn.Tanh()\n",
    "        self.pool2 = nn.MaxPool2d(2)\n",
    "        self.fc1 = nn.Linear(8 * 8 * 8, 32)\n",
    "        self.act3 = nn.Tanh()\n",
    "        self.fc2 = nn.Linear(32, 2)\n",
    "        \n",
    "    def forward(self, x):\n",
    "        out = self.conv1(x)\n",
    "        out = self.act1(out)\n",
    "        out = self.pool1(out)\n",
    "        out = self.conv2(out)\n",
    "        out = self.act2(out)\n",
    "        out = self.pool2(out)\n",
    "        out = out.view(-1, 8 * 8 * 8)\n",
    "        out = self.fc1(out)\n",
    "        out = self.act3(out)\n",
    "        return out"
   ]
  },
  {
   "cell_type": "code",
   "execution_count": 23,
   "id": "c16200ad",
   "metadata": {},
   "outputs": [],
   "source": [
    "import torch.nn.functional as F\n",
    "\n",
    "class Net(nn.Module):\n",
    "    def __init__(self):\n",
    "        super().__init__()\n",
    "        self.conv1 = nn.Conv2d(3, 16, kernel_size=3, padding=1)\n",
    "        self.conv2 = nn.Conv2d(16, 12, kernel_size=3, padding=1)\n",
    "        self.conv3 = nn.Conv2d(12, 8, kernel_size=3, padding=1)\n",
    "        self.fc1 = nn.Linear(8 * 8 * 8, 64)\n",
    "        self.fc2 = nn.Linear(64, 32)\n",
    "        self.fc3 = nn.Linear(32, 2)\n",
    "        \n",
    "    def forward(self, x):\n",
    "        out = torch.tanh(self.conv1(x))\n",
    "        out = F.max_pool2d(torch.tanh(self.conv2(out)), 2)\n",
    "        out = F.max_pool2d(torch.tanh(self.conv3(out)), 2)\n",
    "        out = out.view(-1, 8 * 8 * 8)\n",
    "        out = torch.tanh(self.fc1(out))\n",
    "        out = torch.tanh(self.fc2(out))\n",
    "        out = self.fc3(out)\n",
    "        return out"
   ]
  },
  {
   "cell_type": "code",
   "execution_count": 24,
   "id": "10cad761",
   "metadata": {},
   "outputs": [],
   "source": [
    "import datetime\n",
    "\n",
    "def training_loop(n_epochs, optimizer, model, loss_fn, train_loader):\n",
    "    for epoch in range(1, n_epochs+1):\n",
    "        loss_train = 0.0\n",
    "        for imgs, labels in train_loader:\n",
    "            outputs = model(imgs)\n",
    "            loss = loss_fn(outputs, labels)\n",
    "            optimizer.zero_grad()\n",
    "            loss.backward()\n",
    "            optimizer.step()\n",
    "            loss_train += loss.item()\n",
    "            \n",
    "        if epoch == 1 or epoch % 5 == 0:\n",
    "            print(f'{datetime.datetime.now()} epoch {epoch}: Training loss {loss_train / len(train_loader)}')"
   ]
  },
  {
   "cell_type": "code",
   "execution_count": 25,
   "id": "5f34325a",
   "metadata": {},
   "outputs": [],
   "source": [
    "train_loader = torch.utils.data.DataLoader(cifar2, batch_size=64, shuffle=True)\n",
    "model = Net()\n",
    "optimizer = torch.optim.SGD(model.parameters(), lr=1e-2)\n",
    "loss_fn = nn.CrossEntropyLoss()"
   ]
  },
  {
   "cell_type": "code",
   "execution_count": 26,
   "id": "2c2f8ce5",
   "metadata": {},
   "outputs": [
    {
     "name": "stdout",
     "output_type": "stream",
     "text": [
      "2021-09-29 16:33:07.380488 epoch 1: Training loss 0.6742453168911539\n",
      "2021-09-29 16:33:50.741589 epoch 5: Training loss 0.468070918397539\n",
      "2021-09-29 16:34:44.434497 epoch 10: Training loss 0.3644988838654415\n",
      "2021-09-29 16:35:38.263607 epoch 15: Training loss 0.3236729510270866\n",
      "2021-09-29 16:36:32.834739 epoch 20: Training loss 0.3051389397899057\n",
      "2021-09-29 16:37:31.052143 epoch 25: Training loss 0.28463618196309753\n",
      "2021-09-29 16:38:29.280571 epoch 30: Training loss 0.2691346275958286\n",
      "2021-09-29 16:39:24.044184 epoch 35: Training loss 0.2536302161444524\n",
      "2021-09-29 16:40:18.718092 epoch 40: Training loss 0.2417482191779811\n",
      "2021-09-29 16:41:14.271590 epoch 45: Training loss 0.23026597191383885\n",
      "2021-09-29 16:42:09.244638 epoch 50: Training loss 0.2184315273526368\n"
     ]
    }
   ],
   "source": [
    "training_loop(\n",
    "    n_epochs=50,\n",
    "    optimizer=optimizer,\n",
    "    model=model,\n",
    "    loss_fn=loss_fn,\n",
    "    train_loader=train_loader\n",
    ")"
   ]
  },
  {
   "cell_type": "code",
   "execution_count": 27,
   "id": "681349d7",
   "metadata": {},
   "outputs": [],
   "source": [
    "val_loader = torch.utils.data.DataLoader(cifar2_v, batch_size=64, shuffle=False)\n",
    "\n",
    "def validate(model, train_loader, val_loader):\n",
    "    for name, loader in [(\"train\", train_loader), (\"val\", val_loader)]:\n",
    "        correct = 0\n",
    "        total = 0\n",
    "        with torch.no_grad():\n",
    "            for imgs, labels in loader:\n",
    "                outputs = model(imgs)\n",
    "                _, predicted = torch.max(outputs, dim=1)\n",
    "                total += labels.shape[0]\n",
    "                correct += int((predicted == labels).sum())\n",
    "        print(f\"Accuracy {name}: {correct/total:.2f}\")"
   ]
  },
  {
   "cell_type": "code",
   "execution_count": 28,
   "id": "ea5022ef",
   "metadata": {
    "scrolled": true
   },
   "outputs": [
    {
     "name": "stdout",
     "output_type": "stream",
     "text": [
      "Accuracy train: 0.88\n",
      "Accuracy val: 0.86\n"
     ]
    }
   ],
   "source": [
    "validate(model, train_loader, val_loader)"
   ]
  },
  {
   "cell_type": "code",
   "execution_count": 29,
   "id": "59b2401c",
   "metadata": {},
   "outputs": [],
   "source": [
    "def validate(model, train_data, val_data):\n",
    "    for name, loader in [('train', train_data), ('val', val_data)]:\n",
    "        correct = 0\n",
    "        total = 0\n",
    "        with torch.no_grad():\n",
    "            for batch, labels in loader:\n",
    "                output = model(batch)\n",
    "                total += labels.shape[0]\n",
    "                _, predicted = torch.max(output, dim=1)\n",
    "                correct += (predicted == labels).sum().item()\n",
    "            print(f'{name} Accuracy: {correct/total:.2f}') "
   ]
  },
  {
   "cell_type": "code",
   "execution_count": 30,
   "id": "a154d0d5",
   "metadata": {},
   "outputs": [
    {
     "name": "stdout",
     "output_type": "stream",
     "text": [
      "train Accuracy: 0.88\n",
      "val Accuracy: 0.86\n"
     ]
    }
   ],
   "source": [
    "validate(model, train_loader, val_loader)"
   ]
  },
  {
   "cell_type": "code",
   "execution_count": 31,
   "id": "4a043fb7",
   "metadata": {},
   "outputs": [],
   "source": [
    "torch.save(model.state_dict(), 'birds_vs_planes_cifar.pt')"
   ]
  },
  {
   "cell_type": "code",
   "execution_count": 32,
   "id": "b4ba95d6",
   "metadata": {
    "scrolled": true
   },
   "outputs": [
    {
     "data": {
      "text/plain": [
       "<All keys matched successfully>"
      ]
     },
     "execution_count": 32,
     "metadata": {},
     "output_type": "execute_result"
    }
   ],
   "source": [
    "load_model = Net()\n",
    "load_model.load_state_dict(torch.load('birds_vs_planes_cifar.pt'))"
   ]
  },
  {
   "cell_type": "code",
   "execution_count": 122,
   "id": "daac8b1b",
   "metadata": {},
   "outputs": [],
   "source": [
    "class NetDropOut(nn.Module):\n",
    "    def __init__(self, n_chans1=32):\n",
    "        super().__init__()\n",
    "        self.n_chans1 = n_chans1\n",
    "        self.conv1 = nn.Conv2d(3, n_chans1, kernel_size=3, padding=1)\n",
    "        self.conv1_dropout = nn.Dropout2d(p=0.4)\n",
    "        \n",
    "        self.conv2 = nn.Conv2d(n_chans1, n_chans1//2, kernel_size=3, padding=1)\n",
    "        self.conv2_dropout = nn.Dropout2d(p=0.4)\n",
    "        \n",
    "        self.fc1 = nn.Linear(n_chans1//2 * 8 * 8, 32)\n",
    "        self.fc2 = nn.Linear(32, 2)\n",
    "        \n",
    "    def forward(self, x):\n",
    "        out = F.max_pool2d(torch.tanh(self.conv1(x)), 2)\n",
    "        out = self.conv1_dropout(out)\n",
    "        out = F.max_pool2d(torch.tanh(self.conv2(out)), 2)\n",
    "        out = self.conv2_dropout(out)\n",
    "        out = out.view(-1, 8 * 8  * (self.n_chans1//2))\n",
    "        out = torch.tanh(self.fc1(out))\n",
    "        out = self.fc2(out)\n",
    "        return out\n",
    "    "
   ]
  },
  {
   "cell_type": "code",
   "execution_count": 166,
   "id": "0e91729f",
   "metadata": {},
   "outputs": [],
   "source": [
    "class NetBatchNorm(nn.Module):\n",
    "    def __init__(self, n_chans1):\n",
    "        super().__init__()\n",
    "        self.n_chans1 = n_chans1\n",
    "        self.conv1 = nn.Conv2d(3, n_chans1, kernel_size=3, padding=1)\n",
    "        self.conv1_batchnorm = nn.BatchNorm2d(num_features=n_chans1)\n",
    "        \n",
    "        self.conv2 = nn.Conv2d(n_chans1, n_chans1//2, kernel_size=3, padding=1)\n",
    "        self.conv2_batchnorm = nn.BatchNorm2d(num_features=n_chans1//2)\n",
    "        \n",
    "        self.fc1 = nn.Linear(8 * 8 * n_chans1//2, 32)\n",
    "        self.fc1 = nn.Linear(32, 2)\n",
    "        \n",
    "    def forward(self, x):\n",
    "        out = self.conv1_batchnorm(self.conv1(x))\n",
    "        out = F.max_pool2d(torch.tanh(out))\n",
    "        out = self.conv2_batchnorm(self.conv2(x))\n",
    "        out = F.max_pool2d(torch.tanh(out))\n",
    "        out = out.view(-1, 8 * 8 * self.n_chans1 // 2)\n",
    "        out = torch.tanh(self.fc1(out))\n",
    "        out = self.fc2(out)\n",
    "        return out"
   ]
  },
  {
   "cell_type": "code",
   "execution_count": null,
   "id": "40d6683b",
   "metadata": {},
   "outputs": [],
   "source": []
  }
 ],
 "metadata": {
  "kernelspec": {
   "display_name": "Python 3",
   "language": "python",
   "name": "python3"
  },
  "language_info": {
   "codemirror_mode": {
    "name": "ipython",
    "version": 3
   },
   "file_extension": ".py",
   "mimetype": "text/x-python",
   "name": "python",
   "nbconvert_exporter": "python",
   "pygments_lexer": "ipython3",
   "version": "3.8.8"
  }
 },
 "nbformat": 4,
 "nbformat_minor": 5
}
